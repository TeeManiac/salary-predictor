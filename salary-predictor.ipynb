{
  "nbformat": 4,
  "nbformat_minor": 0,
  "metadata": {
    "kernelspec": {
      "display_name": "Python 3",
      "language": "python",
      "name": "python3"
    },
    "language_info": {
      "codemirror_mode": {
        "name": "ipython",
        "version": 3
      },
      "file_extension": ".py",
      "mimetype": "text/x-python",
      "name": "python",
      "nbconvert_exporter": "python",
      "pygments_lexer": "ipython3",
      "version": "3.7.6"
    },
    "colab": {
      "name": "salary_predictor.ipynb",
      "provenance": [],
      "collapsed_sections": []
    }
  },
  "cells": [
    {
      "cell_type": "code",
      "metadata": {
        "_cell_guid": "b1076dfc-b9ad-4769-8c92-a6c4dae69d19",
        "_uuid": "8f2839f25d086af736a60e9eeb907d3b93b6e0e5",
        "colab": {
          "base_uri": "https://localhost:8080/"
        },
        "id": "Z5vogKiFmFxN",
        "outputId": "8e6a0da9-6ddf-425d-bf96-96c79a4a1434"
      },
      "source": [
        "# This Python 3 environment comes with many helpful analytics libraries installed\n",
        "# It is defined by the kaggle/python Docker image: https://github.com/kaggle/docker-python\n",
        "# For example, here's several helpful packages to load\n",
        "# Input data files are available in the read-only \"../input/\" directory\n",
        "# For example, running this (by clicking run or pressing Shift+Enter) will list all files under the input directory\n",
        "\n",
        "# You can write up to 5GB to the current directory (/kaggle/working/) that gets preserved as output when you create a version using \"Save & Run All\" \n",
        "# You can also write temporary files to /kaggle/temp/, but they won't be saved outside of the current session\n",
        "# Import libraries \n",
        "\n",
        "import numpy as np # linear algebra\n",
        "import pandas as pd # data processing, CSV file I/O (e.g. pd.read_csv)\n",
        "\n",
        "# Libraries for data visualization\n",
        "import matplotlib.pyplot as pplt  \n",
        "import seaborn as sns \n",
        "from pandas.plotting import scatter_matrix\n",
        "\n",
        "\n",
        "# Import scikit_learn module for the algorithm/model: Linear Regression\n",
        "from sklearn.linear_model import LinearRegression\n",
        "from sklearn.linear_model import LogisticRegression\n",
        "# Import scikit_learn module to split the dataset into train.test sub-datasets\n",
        "from sklearn.model_selection import train_test_split \n",
        "\n",
        "# Import scikit_learn module for k-fold cross validation\n",
        "from sklearn.model_selection import KFold\n",
        "from sklearn.model_selection import cross_val_score\n",
        "\n",
        "# import the metrics class\n",
        "from sklearn import metrics\n",
        "\n",
        "import statsmodels.api as sm\n",
        "\n",
        "# Import sys and warnings to ignore warning messages \n",
        "import sys\n",
        "import warnings\n",
        "%matplotlib inline\n",
        "\n",
        "if not sys.warnoptions:\n",
        "    warnings.simplefilter(\"ignore\")"
      ],
      "execution_count": null,
      "outputs": [
        {
          "output_type": "stream",
          "text": [
            "/usr/local/lib/python3.7/dist-packages/statsmodels/tools/_testing.py:19: FutureWarning: pandas.util.testing is deprecated. Use the functions in the public API at pandas.testing instead.\n",
            "  import pandas.util.testing as tm\n"
          ],
          "name": "stderr"
        }
      ]
    },
    {
      "cell_type": "code",
      "metadata": {
        "_cell_guid": "79c7e3d0-c299-4dcb-8224-4455121ee9b0",
        "_uuid": "d629ff2d2480ee46fbb7e2d37f6b5fab8052498a",
        "colab": {
          "base_uri": "https://localhost:8080/",
          "height": 294
        },
        "id": "JvnM5LodmFxU",
        "outputId": "44fef70f-dc08-462c-d8ff-a9a678f4f56c"
      },
      "source": [
        "#laod the dataset provided\n",
        "salary_dataset  = pd.read_csv('train.csv')\n",
        "\n",
        "# describe the dataset \n",
        "salary_dataset.describe()"
      ],
      "execution_count": null,
      "outputs": [
        {
          "output_type": "execute_result",
          "data": {
            "text/html": [
              "<div>\n",
              "<style scoped>\n",
              "    .dataframe tbody tr th:only-of-type {\n",
              "        vertical-align: middle;\n",
              "    }\n",
              "\n",
              "    .dataframe tbody tr th {\n",
              "        vertical-align: top;\n",
              "    }\n",
              "\n",
              "    .dataframe thead th {\n",
              "        text-align: right;\n",
              "    }\n",
              "</style>\n",
              "<table border=\"1\" class=\"dataframe\">\n",
              "  <thead>\n",
              "    <tr style=\"text-align: right;\">\n",
              "      <th></th>\n",
              "      <th>age</th>\n",
              "      <th>fnlwgt</th>\n",
              "      <th>educational-num</th>\n",
              "      <th>capital-gain</th>\n",
              "      <th>capital-loss</th>\n",
              "      <th>hours-per-week</th>\n",
              "      <th>income_&gt;50K</th>\n",
              "    </tr>\n",
              "  </thead>\n",
              "  <tbody>\n",
              "    <tr>\n",
              "      <th>count</th>\n",
              "      <td>43957.000000</td>\n",
              "      <td>4.395700e+04</td>\n",
              "      <td>43957.000000</td>\n",
              "      <td>43957.000000</td>\n",
              "      <td>43957.000000</td>\n",
              "      <td>43957.000000</td>\n",
              "      <td>43957.000000</td>\n",
              "    </tr>\n",
              "    <tr>\n",
              "      <th>mean</th>\n",
              "      <td>38.617149</td>\n",
              "      <td>1.896730e+05</td>\n",
              "      <td>10.074118</td>\n",
              "      <td>1093.559797</td>\n",
              "      <td>88.246491</td>\n",
              "      <td>40.407694</td>\n",
              "      <td>0.239279</td>\n",
              "    </tr>\n",
              "    <tr>\n",
              "      <th>std</th>\n",
              "      <td>13.734401</td>\n",
              "      <td>1.058215e+05</td>\n",
              "      <td>2.575092</td>\n",
              "      <td>7570.536063</td>\n",
              "      <td>404.588410</td>\n",
              "      <td>12.400303</td>\n",
              "      <td>0.426648</td>\n",
              "    </tr>\n",
              "    <tr>\n",
              "      <th>min</th>\n",
              "      <td>17.000000</td>\n",
              "      <td>1.349200e+04</td>\n",
              "      <td>1.000000</td>\n",
              "      <td>0.000000</td>\n",
              "      <td>0.000000</td>\n",
              "      <td>1.000000</td>\n",
              "      <td>0.000000</td>\n",
              "    </tr>\n",
              "    <tr>\n",
              "      <th>25%</th>\n",
              "      <td>28.000000</td>\n",
              "      <td>1.174960e+05</td>\n",
              "      <td>9.000000</td>\n",
              "      <td>0.000000</td>\n",
              "      <td>0.000000</td>\n",
              "      <td>40.000000</td>\n",
              "      <td>0.000000</td>\n",
              "    </tr>\n",
              "    <tr>\n",
              "      <th>50%</th>\n",
              "      <td>37.000000</td>\n",
              "      <td>1.781000e+05</td>\n",
              "      <td>10.000000</td>\n",
              "      <td>0.000000</td>\n",
              "      <td>0.000000</td>\n",
              "      <td>40.000000</td>\n",
              "      <td>0.000000</td>\n",
              "    </tr>\n",
              "    <tr>\n",
              "      <th>75%</th>\n",
              "      <td>48.000000</td>\n",
              "      <td>2.376710e+05</td>\n",
              "      <td>12.000000</td>\n",
              "      <td>0.000000</td>\n",
              "      <td>0.000000</td>\n",
              "      <td>45.000000</td>\n",
              "      <td>0.000000</td>\n",
              "    </tr>\n",
              "    <tr>\n",
              "      <th>max</th>\n",
              "      <td>90.000000</td>\n",
              "      <td>1.490400e+06</td>\n",
              "      <td>16.000000</td>\n",
              "      <td>99999.000000</td>\n",
              "      <td>4356.000000</td>\n",
              "      <td>99.000000</td>\n",
              "      <td>1.000000</td>\n",
              "    </tr>\n",
              "  </tbody>\n",
              "</table>\n",
              "</div>"
            ],
            "text/plain": [
              "                age        fnlwgt  ...  hours-per-week   income_>50K\n",
              "count  43957.000000  4.395700e+04  ...    43957.000000  43957.000000\n",
              "mean      38.617149  1.896730e+05  ...       40.407694      0.239279\n",
              "std       13.734401  1.058215e+05  ...       12.400303      0.426648\n",
              "min       17.000000  1.349200e+04  ...        1.000000      0.000000\n",
              "25%       28.000000  1.174960e+05  ...       40.000000      0.000000\n",
              "50%       37.000000  1.781000e+05  ...       40.000000      0.000000\n",
              "75%       48.000000  2.376710e+05  ...       45.000000      0.000000\n",
              "max       90.000000  1.490400e+06  ...       99.000000      1.000000\n",
              "\n",
              "[8 rows x 7 columns]"
            ]
          },
          "metadata": {},
          "execution_count": 2
        }
      ]
    },
    {
      "cell_type": "code",
      "metadata": {
        "colab": {
          "base_uri": "https://localhost:8080/",
          "height": 294
        },
        "id": "FXn25R2Hbj3h",
        "outputId": "e4c8186b-e306-4d25-8967-fc24ac096693"
      },
      "source": [
        "#laod the dataset provided\n",
        "test_dataset  = pd.read_csv('test.csv')\n",
        "\n",
        "# describe the dataset \n",
        "test_dataset.describe()"
      ],
      "execution_count": null,
      "outputs": [
        {
          "output_type": "execute_result",
          "data": {
            "text/html": [
              "<div>\n",
              "<style scoped>\n",
              "    .dataframe tbody tr th:only-of-type {\n",
              "        vertical-align: middle;\n",
              "    }\n",
              "\n",
              "    .dataframe tbody tr th {\n",
              "        vertical-align: top;\n",
              "    }\n",
              "\n",
              "    .dataframe thead th {\n",
              "        text-align: right;\n",
              "    }\n",
              "</style>\n",
              "<table border=\"1\" class=\"dataframe\">\n",
              "  <thead>\n",
              "    <tr style=\"text-align: right;\">\n",
              "      <th></th>\n",
              "      <th>age</th>\n",
              "      <th>fnlwgt</th>\n",
              "      <th>educational-num</th>\n",
              "      <th>capital-gain</th>\n",
              "      <th>capital-loss</th>\n",
              "      <th>hours-per-week</th>\n",
              "    </tr>\n",
              "  </thead>\n",
              "  <tbody>\n",
              "    <tr>\n",
              "      <th>count</th>\n",
              "      <td>899.000000</td>\n",
              "      <td>899.000000</td>\n",
              "      <td>899.000000</td>\n",
              "      <td>899.000000</td>\n",
              "      <td>899.000000</td>\n",
              "      <td>899.000000</td>\n",
              "    </tr>\n",
              "    <tr>\n",
              "      <th>mean</th>\n",
              "      <td>38.576196</td>\n",
              "      <td>194150.017798</td>\n",
              "      <td>10.185762</td>\n",
              "      <td>728.913237</td>\n",
              "      <td>111.929922</td>\n",
              "      <td>41.121246</td>\n",
              "    </tr>\n",
              "    <tr>\n",
              "      <th>std</th>\n",
              "      <td>13.079061</td>\n",
              "      <td>104945.494349</td>\n",
              "      <td>2.477511</td>\n",
              "      <td>4355.969800</td>\n",
              "      <td>442.980441</td>\n",
              "      <td>12.397005</td>\n",
              "    </tr>\n",
              "    <tr>\n",
              "      <th>min</th>\n",
              "      <td>17.000000</td>\n",
              "      <td>21472.000000</td>\n",
              "      <td>1.000000</td>\n",
              "      <td>0.000000</td>\n",
              "      <td>0.000000</td>\n",
              "      <td>2.000000</td>\n",
              "    </tr>\n",
              "    <tr>\n",
              "      <th>25%</th>\n",
              "      <td>28.000000</td>\n",
              "      <td>120925.500000</td>\n",
              "      <td>9.000000</td>\n",
              "      <td>0.000000</td>\n",
              "      <td>0.000000</td>\n",
              "      <td>40.000000</td>\n",
              "    </tr>\n",
              "    <tr>\n",
              "      <th>50%</th>\n",
              "      <td>37.000000</td>\n",
              "      <td>181434.000000</td>\n",
              "      <td>10.000000</td>\n",
              "      <td>0.000000</td>\n",
              "      <td>0.000000</td>\n",
              "      <td>40.000000</td>\n",
              "    </tr>\n",
              "    <tr>\n",
              "      <th>75%</th>\n",
              "      <td>48.000000</td>\n",
              "      <td>243670.000000</td>\n",
              "      <td>13.000000</td>\n",
              "      <td>0.000000</td>\n",
              "      <td>0.000000</td>\n",
              "      <td>45.000000</td>\n",
              "    </tr>\n",
              "    <tr>\n",
              "      <th>max</th>\n",
              "      <td>90.000000</td>\n",
              "      <td>857532.000000</td>\n",
              "      <td>16.000000</td>\n",
              "      <td>99999.000000</td>\n",
              "      <td>2415.000000</td>\n",
              "      <td>99.000000</td>\n",
              "    </tr>\n",
              "  </tbody>\n",
              "</table>\n",
              "</div>"
            ],
            "text/plain": [
              "              age         fnlwgt  ...  capital-loss  hours-per-week\n",
              "count  899.000000     899.000000  ...    899.000000      899.000000\n",
              "mean    38.576196  194150.017798  ...    111.929922       41.121246\n",
              "std     13.079061  104945.494349  ...    442.980441       12.397005\n",
              "min     17.000000   21472.000000  ...      0.000000        2.000000\n",
              "25%     28.000000  120925.500000  ...      0.000000       40.000000\n",
              "50%     37.000000  181434.000000  ...      0.000000       40.000000\n",
              "75%     48.000000  243670.000000  ...      0.000000       45.000000\n",
              "max     90.000000  857532.000000  ...   2415.000000       99.000000\n",
              "\n",
              "[8 rows x 6 columns]"
            ]
          },
          "metadata": {},
          "execution_count": 3
        }
      ]
    },
    {
      "cell_type": "code",
      "metadata": {
        "colab": {
          "base_uri": "https://localhost:8080/"
        },
        "id": "h6ignnw5mFxV",
        "outputId": "86a03c9d-c42c-4dc7-8521-67e0dedca0b5"
      },
      "source": [
        "# salary dataset info to find columns and count of the data \n",
        "salary_dataset.info()"
      ],
      "execution_count": null,
      "outputs": [
        {
          "output_type": "stream",
          "text": [
            "<class 'pandas.core.frame.DataFrame'>\n",
            "RangeIndex: 43957 entries, 0 to 43956\n",
            "Data columns (total 15 columns):\n",
            " #   Column           Non-Null Count  Dtype \n",
            "---  ------           --------------  ----- \n",
            " 0   age              43957 non-null  int64 \n",
            " 1   workclass        41459 non-null  object\n",
            " 2   fnlwgt           43957 non-null  int64 \n",
            " 3   education        43957 non-null  object\n",
            " 4   educational-num  43957 non-null  int64 \n",
            " 5   marital-status   43957 non-null  object\n",
            " 6   occupation       41451 non-null  object\n",
            " 7   relationship     43957 non-null  object\n",
            " 8   race             43957 non-null  object\n",
            " 9   gender           43957 non-null  object\n",
            " 10  capital-gain     43957 non-null  int64 \n",
            " 11  capital-loss     43957 non-null  int64 \n",
            " 12  hours-per-week   43957 non-null  int64 \n",
            " 13  native-country   43194 non-null  object\n",
            " 14  income_>50K      43957 non-null  int64 \n",
            "dtypes: int64(7), object(8)\n",
            "memory usage: 5.0+ MB\n"
          ],
          "name": "stdout"
        }
      ]
    },
    {
      "cell_type": "code",
      "metadata": {
        "colab": {
          "base_uri": "https://localhost:8080/"
        },
        "id": "Md-k_VVebq47",
        "outputId": "bd90abb4-2137-4cc3-bf82-f780cfaebcbf"
      },
      "source": [
        "# salary dataset info to find columns and count of the data \n",
        "test_dataset.info()"
      ],
      "execution_count": null,
      "outputs": [
        {
          "output_type": "stream",
          "text": [
            "<class 'pandas.core.frame.DataFrame'>\n",
            "RangeIndex: 899 entries, 0 to 898\n",
            "Data columns (total 14 columns):\n",
            " #   Column           Non-Null Count  Dtype \n",
            "---  ------           --------------  ----- \n",
            " 0   age              899 non-null    int64 \n",
            " 1   workclass        899 non-null    object\n",
            " 2   fnlwgt           899 non-null    int64 \n",
            " 3   education        899 non-null    object\n",
            " 4   educational-num  899 non-null    int64 \n",
            " 5   marital-status   899 non-null    object\n",
            " 6   occupation       899 non-null    object\n",
            " 7   relationship     899 non-null    object\n",
            " 8   race             899 non-null    object\n",
            " 9   gender           899 non-null    object\n",
            " 10  capital-gain     899 non-null    int64 \n",
            " 11  capital-loss     899 non-null    int64 \n",
            " 12  hours-per-week   899 non-null    int64 \n",
            " 13  native-country   899 non-null    object\n",
            "dtypes: int64(6), object(8)\n",
            "memory usage: 98.5+ KB\n"
          ],
          "name": "stdout"
        }
      ]
    },
    {
      "cell_type": "code",
      "metadata": {
        "colab": {
          "base_uri": "https://localhost:8080/"
        },
        "id": "wFqjpwBgmFxW",
        "outputId": "59bafdc8-54ff-4d37-87db-bdf4189b3569"
      },
      "source": [
        "#We count the number of missing values for each feature\n",
        "salary_dataset.isnull().sum()\n",
        "#below sum shows there are null values in the dataset so, need to clean the dataset dropna()"
      ],
      "execution_count": null,
      "outputs": [
        {
          "output_type": "execute_result",
          "data": {
            "text/plain": [
              "age                   0\n",
              "workclass          2498\n",
              "fnlwgt                0\n",
              "education             0\n",
              "educational-num       0\n",
              "marital-status        0\n",
              "occupation         2506\n",
              "relationship          0\n",
              "race                  0\n",
              "gender                0\n",
              "capital-gain          0\n",
              "capital-loss          0\n",
              "hours-per-week        0\n",
              "native-country      763\n",
              "income_>50K           0\n",
              "dtype: int64"
            ]
          },
          "metadata": {},
          "execution_count": 6
        }
      ]
    },
    {
      "cell_type": "code",
      "metadata": {
        "colab": {
          "base_uri": "https://localhost:8080/"
        },
        "id": "qU_SZsZRb5nM",
        "outputId": "d544c9a1-429a-4cd0-b936-d4ca618f7327"
      },
      "source": [
        "#We count the number of missing values for each feature\n",
        "test_dataset.isnull().sum()\n",
        "#below sum shows there are null values in the dataset so, need to clean the dataset dropna()"
      ],
      "execution_count": null,
      "outputs": [
        {
          "output_type": "execute_result",
          "data": {
            "text/plain": [
              "age                0\n",
              "workclass          0\n",
              "fnlwgt             0\n",
              "education          0\n",
              "educational-num    0\n",
              "marital-status     0\n",
              "occupation         0\n",
              "relationship       0\n",
              "race               0\n",
              "gender             0\n",
              "capital-gain       0\n",
              "capital-loss       0\n",
              "hours-per-week     0\n",
              "native-country     0\n",
              "dtype: int64"
            ]
          },
          "metadata": {},
          "execution_count": 7
        }
      ]
    },
    {
      "cell_type": "code",
      "metadata": {
        "id": "aNjeBgBlm7bv"
      },
      "source": [
        "x = salary_dataset.dropna()\n",
        "#salary_dataset.isnull().sum()"
      ],
      "execution_count": null,
      "outputs": []
    },
    {
      "cell_type": "code",
      "metadata": {
        "colab": {
          "base_uri": "https://localhost:8080/"
        },
        "id": "lxLprxPgeZ4I",
        "outputId": "50b6ed1d-9dd5-4c72-b29d-5b7e73f9ffcd"
      },
      "source": [
        "x.isnull().sum()"
      ],
      "execution_count": null,
      "outputs": [
        {
          "output_type": "execute_result",
          "data": {
            "text/plain": [
              "age                0\n",
              "workclass          0\n",
              "fnlwgt             0\n",
              "education          0\n",
              "educational-num    0\n",
              "marital-status     0\n",
              "occupation         0\n",
              "relationship       0\n",
              "race               0\n",
              "gender             0\n",
              "capital-gain       0\n",
              "capital-loss       0\n",
              "hours-per-week     0\n",
              "native-country     0\n",
              "income_>50K        0\n",
              "dtype: int64"
            ]
          },
          "metadata": {},
          "execution_count": 9
        }
      ]
    },
    {
      "cell_type": "code",
      "metadata": {
        "id": "icuurrDxmFxW",
        "colab": {
          "base_uri": "https://localhost:8080/"
        },
        "outputId": "fafc2cd4-175b-40c5-d173-d05e69991d0a"
      },
      "source": [
        "#creating a Dataframe from the given dataset\n",
        "df = pd.DataFrame(x)\n",
        "df.columns"
      ],
      "execution_count": null,
      "outputs": [
        {
          "output_type": "execute_result",
          "data": {
            "text/plain": [
              "Index(['age', 'workclass', 'fnlwgt', 'education', 'educational-num',\n",
              "       'marital-status', 'occupation', 'relationship', 'race', 'gender',\n",
              "       'capital-gain', 'capital-loss', 'hours-per-week', 'native-country',\n",
              "       'income_>50K'],\n",
              "      dtype='object')"
            ]
          },
          "metadata": {},
          "execution_count": 10
        }
      ]
    },
    {
      "cell_type": "code",
      "metadata": {
        "colab": {
          "base_uri": "https://localhost:8080/"
        },
        "id": "hmiL_-oXfdFc",
        "outputId": "4e6802e0-d071-4e9d-cd50-53c0ec4c80f6"
      },
      "source": [
        "#creating a Dataframe from the given dataset\n",
        "df1 = pd.DataFrame(test_dataset)\n",
        "df1.columns"
      ],
      "execution_count": null,
      "outputs": [
        {
          "output_type": "execute_result",
          "data": {
            "text/plain": [
              "Index(['age', 'workclass', 'fnlwgt', 'education', 'educational-num',\n",
              "       'marital-status', 'occupation', 'relationship', 'race', 'gender',\n",
              "       'capital-gain', 'capital-loss', 'hours-per-week', 'native-country'],\n",
              "      dtype='object')"
            ]
          },
          "metadata": {},
          "execution_count": 11
        }
      ]
    },
    {
      "cell_type": "code",
      "metadata": {
        "id": "dno-9vTsmFxX",
        "colab": {
          "base_uri": "https://localhost:8080/"
        },
        "outputId": "f3fc934a-7df0-4675-8154-45bb62f8d3ab"
      },
      "source": [
        "#replacing some special character columns names with proper names \n",
        "df.rename(columns={'capital-gain': 'capital gain', 'capital-loss': 'capital loss', 'native-country': 'country','hours-per-week': 'hours per week','marital-status': 'marital','income_>50K':'income'}, inplace=True)\n",
        "df.columns"
      ],
      "execution_count": null,
      "outputs": [
        {
          "output_type": "execute_result",
          "data": {
            "text/plain": [
              "Index(['age', 'workclass', 'fnlwgt', 'education', 'educational-num', 'marital',\n",
              "       'occupation', 'relationship', 'race', 'gender', 'capital gain',\n",
              "       'capital loss', 'hours per week', 'country', 'income'],\n",
              "      dtype='object')"
            ]
          },
          "metadata": {},
          "execution_count": 12
        }
      ]
    },
    {
      "cell_type": "code",
      "metadata": {
        "colab": {
          "base_uri": "https://localhost:8080/"
        },
        "id": "D-NXAhJufmnM",
        "outputId": "6695c511-dcea-47ba-9e8d-be02708aea86"
      },
      "source": [
        "#replacing some special character columns names with proper names \n",
        "df1.rename(columns={'capital-gain': 'capital gain', 'capital-loss': 'capital loss', 'native-country': 'country','hours-per-week': 'hours per week','marital-status': 'marital'}, inplace=True)\n",
        "df1.columns"
      ],
      "execution_count": null,
      "outputs": [
        {
          "output_type": "execute_result",
          "data": {
            "text/plain": [
              "Index(['age', 'workclass', 'fnlwgt', 'education', 'educational-num', 'marital',\n",
              "       'occupation', 'relationship', 'race', 'gender', 'capital gain',\n",
              "       'capital loss', 'hours per week', 'country'],\n",
              "      dtype='object')"
            ]
          },
          "metadata": {},
          "execution_count": 13
        }
      ]
    },
    {
      "cell_type": "code",
      "metadata": {
        "id": "4AWATG7dmFxY",
        "colab": {
          "base_uri": "https://localhost:8080/"
        },
        "outputId": "12072ae3-4866-40e6-9beb-044ce25765e8"
      },
      "source": [
        "#Finding the special characters in the data frame \n",
        "df.isin(['?']).sum(axis=0)\n",
        "#we see that there is a special character as \" ?\" for columns workcalss, Occupation, and country\n",
        "#we need to clean those data "
      ],
      "execution_count": null,
      "outputs": [
        {
          "output_type": "execute_result",
          "data": {
            "text/plain": [
              "age                0\n",
              "workclass          0\n",
              "fnlwgt             0\n",
              "education          0\n",
              "educational-num    0\n",
              "marital            0\n",
              "occupation         0\n",
              "relationship       0\n",
              "race               0\n",
              "gender             0\n",
              "capital gain       0\n",
              "capital loss       0\n",
              "hours per week     0\n",
              "country            0\n",
              "income             0\n",
              "dtype: int64"
            ]
          },
          "metadata": {},
          "execution_count": 14
        }
      ]
    },
    {
      "cell_type": "code",
      "metadata": {
        "colab": {
          "base_uri": "https://localhost:8080/"
        },
        "id": "Fv4yAYaYf0Xw",
        "outputId": "861254f7-2309-43ce-bd3f-387370271ac8"
      },
      "source": [
        "#Finding the special characters in the data frame \n",
        "df1.isin(['?']).sum(axis=0)\n",
        "#we see that there is a special character as \" ?\" for columns workcalss, Occupation, and country\n",
        "#we need to clean those data "
      ],
      "execution_count": null,
      "outputs": [
        {
          "output_type": "execute_result",
          "data": {
            "text/plain": [
              "age                0\n",
              "workclass          0\n",
              "fnlwgt             0\n",
              "education          0\n",
              "educational-num    0\n",
              "marital            0\n",
              "occupation         0\n",
              "relationship       0\n",
              "race               0\n",
              "gender             0\n",
              "capital gain       0\n",
              "capital loss       0\n",
              "hours per week     0\n",
              "country            0\n",
              "dtype: int64"
            ]
          },
          "metadata": {},
          "execution_count": 15
        }
      ]
    },
    {
      "cell_type": "code",
      "metadata": {
        "id": "h9fQh6WJmFxa",
        "colab": {
          "base_uri": "https://localhost:8080/"
        },
        "outputId": "e1b5c439-6195-494d-a905-f326dae31dd0"
      },
      "source": [
        "#assinging the data set to a train data set to remove special characters\n",
        "#train_data=[salary_dataset]\n",
        "df.columns"
      ],
      "execution_count": null,
      "outputs": [
        {
          "output_type": "execute_result",
          "data": {
            "text/plain": [
              "Index(['age', 'workclass', 'fnlwgt', 'education', 'educational-num', 'marital',\n",
              "       'occupation', 'relationship', 'race', 'gender', 'capital gain',\n",
              "       'capital loss', 'hours per week', 'country', 'income'],\n",
              "      dtype='object')"
            ]
          },
          "metadata": {},
          "execution_count": 16
        }
      ]
    },
    {
      "cell_type": "code",
      "metadata": {
        "colab": {
          "base_uri": "https://localhost:8080/"
        },
        "id": "OqjiCacYf5_Z",
        "outputId": "83478c67-fd00-4320-f563-d16685e304b3"
      },
      "source": [
        "#assinging the data set to a train data set to remove special characters\n",
        "#train_data=[salary_dataset]\n",
        "df1.columns"
      ],
      "execution_count": null,
      "outputs": [
        {
          "output_type": "execute_result",
          "data": {
            "text/plain": [
              "Index(['age', 'workclass', 'fnlwgt', 'education', 'educational-num', 'marital',\n",
              "       'occupation', 'relationship', 'race', 'gender', 'capital gain',\n",
              "       'capital loss', 'hours per week', 'country'],\n",
              "      dtype='object')"
            ]
          },
          "metadata": {},
          "execution_count": 17
        }
      ]
    },
    {
      "cell_type": "code",
      "metadata": {
        "id": "yYrU4zoZmFxa"
      },
      "source": [
        "# the code will replace the special character to nan and then drop the columns \n",
        "df['country'] = df['country'].replace('?',np.nan)\n",
        "df['workclass'] = df['workclass'].replace('?',np.nan)\n",
        "df['occupation'] = df['occupation'].replace('?',np.nan)"
      ],
      "execution_count": null,
      "outputs": []
    },
    {
      "cell_type": "code",
      "metadata": {
        "id": "WTyxDQOCf_tA"
      },
      "source": [
        "# the code will replace the special character to nan and then drop the columns \n",
        "df1['country'] = df1['country'].replace('?',np.nan)\n",
        "df1['workclass'] = df1['workclass'].replace('?',np.nan)\n",
        "df1['occupation'] = df1['occupation'].replace('?',np.nan)"
      ],
      "execution_count": null,
      "outputs": []
    },
    {
      "cell_type": "code",
      "metadata": {
        "id": "sPh5IGXlmFxb"
      },
      "source": [
        "#dropping the nan columns now \n",
        "df.dropna(how='any',inplace=True)"
      ],
      "execution_count": null,
      "outputs": []
    },
    {
      "cell_type": "code",
      "metadata": {
        "id": "h4boUqkMgz-E"
      },
      "source": [
        "#dropping the nan columns now \n",
        "df1.dropna(how='any',inplace=True)"
      ],
      "execution_count": null,
      "outputs": []
    },
    {
      "cell_type": "code",
      "metadata": {
        "id": "Jhe3SpUdmFxc",
        "colab": {
          "base_uri": "https://localhost:8080/"
        },
        "outputId": "3dbb4edf-a462-49ba-84a9-8441372376ed"
      },
      "source": [
        "#Finding if special characters are present in the data \n",
        "df.isin(['?']).sum(axis=0)"
      ],
      "execution_count": null,
      "outputs": [
        {
          "output_type": "execute_result",
          "data": {
            "text/plain": [
              "age                0\n",
              "workclass          0\n",
              "fnlwgt             0\n",
              "education          0\n",
              "educational-num    0\n",
              "marital            0\n",
              "occupation         0\n",
              "relationship       0\n",
              "race               0\n",
              "gender             0\n",
              "capital gain       0\n",
              "capital loss       0\n",
              "hours per week     0\n",
              "country            0\n",
              "income             0\n",
              "dtype: int64"
            ]
          },
          "metadata": {},
          "execution_count": 22
        }
      ]
    },
    {
      "cell_type": "code",
      "metadata": {
        "colab": {
          "base_uri": "https://localhost:8080/"
        },
        "id": "WKEBaNxBg4lC",
        "outputId": "98af2427-570d-450e-a0f3-cd008d78bb57"
      },
      "source": [
        "#Finding if special characters are present in the data \n",
        "df1.isin(['?']).sum(axis=0)"
      ],
      "execution_count": null,
      "outputs": [
        {
          "output_type": "execute_result",
          "data": {
            "text/plain": [
              "age                0\n",
              "workclass          0\n",
              "fnlwgt             0\n",
              "education          0\n",
              "educational-num    0\n",
              "marital            0\n",
              "occupation         0\n",
              "relationship       0\n",
              "race               0\n",
              "gender             0\n",
              "capital gain       0\n",
              "capital loss       0\n",
              "hours per week     0\n",
              "country            0\n",
              "dtype: int64"
            ]
          },
          "metadata": {},
          "execution_count": 23
        }
      ]
    },
    {
      "cell_type": "code",
      "metadata": {
        "id": "vo5xr_gYmFxc",
        "colab": {
          "base_uri": "https://localhost:8080/"
        },
        "outputId": "1d8c44f4-af6f-4069-ea50-d417fc9b6801"
      },
      "source": [
        "#running a loop for value_counts of each column to find out unique values. \n",
        "for c in df.columns:\n",
        "    print (\"---- %s ---\" % c)\n",
        "    print (df[c].value_counts())"
      ],
      "execution_count": null,
      "outputs": [
        {
          "output_type": "stream",
          "text": [
            "---- age ---\n",
            "33    1165\n",
            "36    1156\n",
            "31    1151\n",
            "35    1138\n",
            "34    1116\n",
            "      ... \n",
            "88       5\n",
            "85       4\n",
            "86       1\n",
            "87       1\n",
            "89       1\n",
            "Name: age, Length: 74, dtype: int64\n",
            "---- workclass ---\n",
            "Private             30057\n",
            "Self-emp-not-inc     3404\n",
            "Local-gov            2792\n",
            "State-gov            1721\n",
            "Self-emp-inc         1471\n",
            "Federal-gov          1262\n",
            "Without-pay            20\n",
            "Name: workclass, dtype: int64\n",
            "---- fnlwgt ---\n",
            "203488    19\n",
            "125892    18\n",
            "126569    17\n",
            "111567    16\n",
            "120277    16\n",
            "          ..\n",
            "313930     1\n",
            "152066     1\n",
            "139863     1\n",
            "84570      1\n",
            "71683      1\n",
            "Name: fnlwgt, Length: 24985, dtype: int64\n",
            "---- education ---\n",
            "HS-grad         13311\n",
            "Some-college     8908\n",
            "Bachelors        6811\n",
            "Masters          2267\n",
            "Assoc-voc        1740\n",
            "11th             1481\n",
            "Assoc-acdm       1360\n",
            "10th             1098\n",
            "7th-8th           740\n",
            "Prof-school       706\n",
            "9th               615\n",
            "12th              520\n",
            "Doctorate         489\n",
            "5th-6th           413\n",
            "1st-4th           202\n",
            "Preschool          66\n",
            "Name: education, dtype: int64\n",
            "---- educational-num ---\n",
            "9     13311\n",
            "10     8908\n",
            "13     6811\n",
            "14     2267\n",
            "11     1740\n",
            "7      1481\n",
            "12     1360\n",
            "6      1098\n",
            "4       740\n",
            "15      706\n",
            "5       615\n",
            "8       520\n",
            "16      489\n",
            "3       413\n",
            "2       202\n",
            "1        66\n",
            "Name: educational-num, dtype: int64\n",
            "---- marital ---\n",
            "Married-civ-spouse       18976\n",
            "Never-married            13156\n",
            "Divorced                  5666\n",
            "Separated                 1252\n",
            "Widowed                   1151\n",
            "Married-spouse-absent      500\n",
            "Married-AF-spouse           26\n",
            "Name: marital, dtype: int64\n",
            "---- occupation ---\n",
            "Craft-repair         5433\n",
            "Exec-managerial      5415\n",
            "Prof-specialty       5380\n",
            "Adm-clerical         4944\n",
            "Sales                4877\n",
            "Other-service        4348\n",
            "Machine-op-inspct    2663\n",
            "Transport-moving     2085\n",
            "Handlers-cleaners    1854\n",
            "Farming-fishing      1338\n",
            "Tech-support         1296\n",
            "Protective-serv       867\n",
            "Priv-house-serv       215\n",
            "Armed-Forces           12\n",
            "Name: occupation, dtype: int64\n",
            "---- relationship ---\n",
            "Husband           16815\n",
            "Not-in-family     10528\n",
            "Own-child          5978\n",
            "Unmarried          4303\n",
            "Wife               1884\n",
            "Other-relative     1219\n",
            "Name: relationship, dtype: int64\n",
            "---- race ---\n",
            "White                 35007\n",
            "Black                  3817\n",
            "Asian-Pac-Islander     1184\n",
            "Amer-Indian-Eskimo      394\n",
            "Other                   325\n",
            "Name: race, dtype: int64\n",
            "---- gender ---\n",
            "Male      27490\n",
            "Female    13237\n",
            "Name: gender, dtype: int64\n",
            "---- capital gain ---\n",
            "0        37319\n",
            "15024      438\n",
            "7688       353\n",
            "7298       316\n",
            "99999      215\n",
            "         ...  \n",
            "401          2\n",
            "22040        1\n",
            "1639         1\n",
            "7262         1\n",
            "1731         1\n",
            "Name: capital gain, Length: 120, dtype: int64\n",
            "---- capital loss ---\n",
            "0       38785\n",
            "1902      266\n",
            "1977      218\n",
            "1887      198\n",
            "2415       61\n",
            "        ...  \n",
            "1539        1\n",
            "1421        1\n",
            "4356        1\n",
            "2282        1\n",
            "1870        1\n",
            "Name: capital loss, Length: 95, dtype: int64\n",
            "---- hours per week ---\n",
            "40    19228\n",
            "50     3675\n",
            "45     2336\n",
            "60     1879\n",
            "35     1616\n",
            "      ...  \n",
            "88        2\n",
            "95        2\n",
            "79        1\n",
            "82        1\n",
            "87        1\n",
            "Name: hours per week, Length: 94, dtype: int64\n",
            "---- country ---\n",
            "United-States                 37168\n",
            "Mexico                          838\n",
            "Philippines                     261\n",
            "Germany                         176\n",
            "Puerto-Rico                     159\n",
            "Canada                          139\n",
            "El-Salvador                     137\n",
            "India                           130\n",
            "Cuba                            120\n",
            "China                           106\n",
            "England                         102\n",
            "Jamaica                          94\n",
            "Dominican-Republic               91\n",
            "South                            91\n",
            "Italy                            89\n",
            "Japan                            81\n",
            "Guatemala                        77\n",
            "Vietnam                          75\n",
            "Columbia                         72\n",
            "Poland                           66\n",
            "Haiti                            65\n",
            "Portugal                         55\n",
            "Iran                             50\n",
            "Taiwan                           49\n",
            "Nicaragua                        45\n",
            "Greece                           44\n",
            "Ecuador                          40\n",
            "Peru                             39\n",
            "Ireland                          31\n",
            "France                           30\n",
            "Thailand                         28\n",
            "Hong                             27\n",
            "Cambodia                         22\n",
            "Trinadad&Tobago                  21\n",
            "Honduras                         19\n",
            "Yugoslavia                       19\n",
            "Scotland                         18\n",
            "Outlying-US(Guam-USVI-etc)       18\n",
            "Hungary                          17\n",
            "Laos                             17\n",
            "Holand-Netherlands                1\n",
            "Name: country, dtype: int64\n",
            "---- income ---\n",
            "0    30635\n",
            "1    10092\n",
            "Name: income, dtype: int64\n"
          ],
          "name": "stdout"
        }
      ]
    },
    {
      "cell_type": "code",
      "metadata": {
        "colab": {
          "base_uri": "https://localhost:8080/"
        },
        "id": "DwCEoDNug89h",
        "outputId": "cbb7700d-8565-4dd9-9211-2b7bad491f0b"
      },
      "source": [
        "#running a loop for value_counts of each column to find out unique values. \n",
        "for c in df1.columns:\n",
        "    print (\"---- %s ---\" % c)\n",
        "    print (df1[c].value_counts())"
      ],
      "execution_count": null,
      "outputs": [
        {
          "output_type": "stream",
          "text": [
            "---- age ---\n",
            "25    39\n",
            "30    34\n",
            "36    31\n",
            "45    29\n",
            "31    29\n",
            "      ..\n",
            "69     1\n",
            "74     1\n",
            "75     1\n",
            "80     1\n",
            "90     1\n",
            "Name: age, Length: 61, dtype: int64\n",
            "---- workclass ---\n",
            "Private             629\n",
            "Self-emp-not-inc     85\n",
            "Local-gov            68\n",
            "Self-emp-inc         45\n",
            "State-gov            43\n",
            "Federal-gov          29\n",
            "Name: workclass, dtype: int64\n",
            "---- fnlwgt ---\n",
            "123011    2\n",
            "68330     2\n",
            "113364    2\n",
            "377018    2\n",
            "231263    2\n",
            "         ..\n",
            "56648     1\n",
            "302406    1\n",
            "222532    1\n",
            "48458     1\n",
            "202752    1\n",
            "Name: fnlwgt, Length: 878, dtype: int64\n",
            "---- education ---\n",
            "HS-grad         302\n",
            "Some-college    198\n",
            "Bachelors       142\n",
            "Masters          61\n",
            "11th             34\n",
            "Assoc-acdm       33\n",
            "Assoc-voc        33\n",
            "10th             26\n",
            "Prof-school      15\n",
            "7th-8th          13\n",
            "12th             12\n",
            "Doctorate        10\n",
            "9th              10\n",
            "5th-6th           5\n",
            "1st-4th           3\n",
            "Preschool         2\n",
            "Name: education, dtype: int64\n",
            "---- educational-num ---\n",
            "9     302\n",
            "10    198\n",
            "13    142\n",
            "14     61\n",
            "7      34\n",
            "12     33\n",
            "11     33\n",
            "6      26\n",
            "15     15\n",
            "4      13\n",
            "8      12\n",
            "16     10\n",
            "5      10\n",
            "3       5\n",
            "2       3\n",
            "1       2\n",
            "Name: educational-num, dtype: int64\n",
            "---- marital ---\n",
            "Married-civ-spouse       402\n",
            "Never-married            298\n",
            "Divorced                 128\n",
            "Separated                 40\n",
            "Widowed                   20\n",
            "Married-spouse-absent      9\n",
            "Married-AF-spouse          2\n",
            "Name: marital, dtype: int64\n",
            "---- occupation ---\n",
            "Adm-clerical         128\n",
            "Craft-repair         126\n",
            "Prof-specialty       118\n",
            "Sales                107\n",
            "Exec-managerial      105\n",
            "Other-service         86\n",
            "Machine-op-inspct     71\n",
            "Transport-moving      48\n",
            "Protective-serv       28\n",
            "Farming-fishing       28\n",
            "Handlers-cleaners     26\n",
            "Tech-support          23\n",
            "Priv-house-serv        4\n",
            "Armed-Forces           1\n",
            "Name: occupation, dtype: int64\n",
            "---- relationship ---\n",
            "Husband           355\n",
            "Not-in-family     254\n",
            "Own-child         134\n",
            "Unmarried          89\n",
            "Wife               41\n",
            "Other-relative     26\n",
            "Name: relationship, dtype: int64\n",
            "---- race ---\n",
            "White                 775\n",
            "Black                  90\n",
            "Asian-Pac-Islander     19\n",
            "Amer-Indian-Eskimo     10\n",
            "Other                   5\n",
            "Name: race, dtype: int64\n",
            "---- gender ---\n",
            "Male      606\n",
            "Female    293\n",
            "Name: gender, dtype: int64\n",
            "---- capital gain ---\n",
            "0        836\n",
            "15024     14\n",
            "7298       7\n",
            "7688       5\n",
            "5013       4\n",
            "13550      2\n",
            "3103       2\n",
            "5178       2\n",
            "6849       2\n",
            "6418       2\n",
            "4386       2\n",
            "3325       2\n",
            "2174       1\n",
            "27828      1\n",
            "1151       1\n",
            "3137       1\n",
            "10520      1\n",
            "4064       1\n",
            "34095      1\n",
            "4416       1\n",
            "991        1\n",
            "10605      1\n",
            "15831      1\n",
            "1506       1\n",
            "2597       1\n",
            "594        1\n",
            "20051      1\n",
            "99999      1\n",
            "3887       1\n",
            "3908       1\n",
            "2407       1\n",
            "Name: capital gain, dtype: int64\n",
            "---- capital loss ---\n",
            "0       844\n",
            "1887     10\n",
            "1902      7\n",
            "1977      4\n",
            "1669      3\n",
            "1590      3\n",
            "1876      2\n",
            "2057      2\n",
            "1672      2\n",
            "1380      2\n",
            "1408      1\n",
            "1092      1\n",
            "2174      1\n",
            "2205      1\n",
            "2231      1\n",
            "2258      1\n",
            "2339      1\n",
            "2415      1\n",
            "1485      1\n",
            "1848      1\n",
            "1504      1\n",
            "1579      1\n",
            "1974      1\n",
            "1602      1\n",
            "1628      1\n",
            "1651      1\n",
            "1911      1\n",
            "1740      1\n",
            "1741      1\n",
            "2001      1\n",
            "Name: capital loss, dtype: int64\n",
            "---- hours per week ---\n",
            "40    439\n",
            "50     81\n",
            "45     58\n",
            "60     40\n",
            "20     31\n",
            "     ... \n",
            "23      1\n",
            "51      1\n",
            "64      1\n",
            "34      1\n",
            "2       1\n",
            "Name: hours per week, Length: 62, dtype: int64\n",
            "---- country ---\n",
            "United-States         819\n",
            "Mexico                 13\n",
            "Poland                  8\n",
            "Puerto-Rico             5\n",
            "Canada                  4\n",
            "El-Salvador             4\n",
            "Jamaica                 3\n",
            "Philippines             3\n",
            "Nicaragua               3\n",
            "Taiwan                  3\n",
            "Columbia                3\n",
            "Germany                 3\n",
            "Italy                   3\n",
            "Portugal                3\n",
            "Cuba                    2\n",
            "England                 2\n",
            "South                   2\n",
            "China                   2\n",
            "Ecuador                 2\n",
            "France                  2\n",
            "India                   2\n",
            "Trinadad&Tobago         1\n",
            "Haiti                   1\n",
            "Dominican-Republic      1\n",
            "Thailand                1\n",
            "Guatemala               1\n",
            "Laos                    1\n",
            "Greece                  1\n",
            "Cambodia                1\n",
            "Name: country, dtype: int64\n"
          ],
          "name": "stdout"
        }
      ]
    },
    {
      "cell_type": "code",
      "metadata": {
        "id": "pX5R1CcbmFxd",
        "colab": {
          "base_uri": "https://localhost:8080/"
        },
        "outputId": "8645033c-7c45-442e-9c17-c016704c1823"
      },
      "source": [
        "#checking the Special characters still exists \n",
        "df.workclass.value_counts()"
      ],
      "execution_count": null,
      "outputs": [
        {
          "output_type": "execute_result",
          "data": {
            "text/plain": [
              "Private             30057\n",
              "Self-emp-not-inc     3404\n",
              "Local-gov            2792\n",
              "State-gov            1721\n",
              "Self-emp-inc         1471\n",
              "Federal-gov          1262\n",
              "Without-pay            20\n",
              "Name: workclass, dtype: int64"
            ]
          },
          "metadata": {},
          "execution_count": 26
        }
      ]
    },
    {
      "cell_type": "code",
      "metadata": {
        "colab": {
          "base_uri": "https://localhost:8080/"
        },
        "id": "z26vEgdDhCJg",
        "outputId": "6bc31f5e-8c75-4f48-d378-2002343b7624"
      },
      "source": [
        "#checking the Special characters still exists \n",
        "df1.workclass.value_counts()"
      ],
      "execution_count": null,
      "outputs": [
        {
          "output_type": "execute_result",
          "data": {
            "text/plain": [
              "Private             629\n",
              "Self-emp-not-inc     85\n",
              "Local-gov            68\n",
              "Self-emp-inc         45\n",
              "State-gov            43\n",
              "Federal-gov          29\n",
              "Name: workclass, dtype: int64"
            ]
          },
          "metadata": {},
          "execution_count": 27
        }
      ]
    },
    {
      "cell_type": "code",
      "metadata": {
        "id": "4KPzVz3HmFxe",
        "colab": {
          "base_uri": "https://localhost:8080/"
        },
        "outputId": "828a1354-1822-46bf-838a-4702ba3df28f"
      },
      "source": [
        "#checking the Special characters still exists \n",
        "df.occupation.value_counts()"
      ],
      "execution_count": null,
      "outputs": [
        {
          "output_type": "execute_result",
          "data": {
            "text/plain": [
              "Craft-repair         5433\n",
              "Exec-managerial      5415\n",
              "Prof-specialty       5380\n",
              "Adm-clerical         4944\n",
              "Sales                4877\n",
              "Other-service        4348\n",
              "Machine-op-inspct    2663\n",
              "Transport-moving     2085\n",
              "Handlers-cleaners    1854\n",
              "Farming-fishing      1338\n",
              "Tech-support         1296\n",
              "Protective-serv       867\n",
              "Priv-house-serv       215\n",
              "Armed-Forces           12\n",
              "Name: occupation, dtype: int64"
            ]
          },
          "metadata": {},
          "execution_count": 28
        }
      ]
    },
    {
      "cell_type": "code",
      "metadata": {
        "colab": {
          "base_uri": "https://localhost:8080/"
        },
        "id": "Qv_HQYdNhG1x",
        "outputId": "be96127e-f5ab-4972-9dc2-d3f297e8b881"
      },
      "source": [
        "#checking the Special characters still exists \n",
        "df1.occupation.value_counts()"
      ],
      "execution_count": null,
      "outputs": [
        {
          "output_type": "execute_result",
          "data": {
            "text/plain": [
              "Adm-clerical         128\n",
              "Craft-repair         126\n",
              "Prof-specialty       118\n",
              "Sales                107\n",
              "Exec-managerial      105\n",
              "Other-service         86\n",
              "Machine-op-inspct     71\n",
              "Transport-moving      48\n",
              "Protective-serv       28\n",
              "Farming-fishing       28\n",
              "Handlers-cleaners     26\n",
              "Tech-support          23\n",
              "Priv-house-serv        4\n",
              "Armed-Forces           1\n",
              "Name: occupation, dtype: int64"
            ]
          },
          "metadata": {},
          "execution_count": 29
        }
      ]
    },
    {
      "cell_type": "code",
      "metadata": {
        "id": "shgTm5zumFxe",
        "colab": {
          "base_uri": "https://localhost:8080/"
        },
        "outputId": "c8cba30c-d42e-4505-8a39-925492599a89"
      },
      "source": [
        "#checking the Special characters still exists \n",
        "df.country.value_counts()"
      ],
      "execution_count": null,
      "outputs": [
        {
          "output_type": "execute_result",
          "data": {
            "text/plain": [
              "United-States                 37168\n",
              "Mexico                          838\n",
              "Philippines                     261\n",
              "Germany                         176\n",
              "Puerto-Rico                     159\n",
              "Canada                          139\n",
              "El-Salvador                     137\n",
              "India                           130\n",
              "Cuba                            120\n",
              "China                           106\n",
              "England                         102\n",
              "Jamaica                          94\n",
              "Dominican-Republic               91\n",
              "South                            91\n",
              "Italy                            89\n",
              "Japan                            81\n",
              "Guatemala                        77\n",
              "Vietnam                          75\n",
              "Columbia                         72\n",
              "Poland                           66\n",
              "Haiti                            65\n",
              "Portugal                         55\n",
              "Iran                             50\n",
              "Taiwan                           49\n",
              "Nicaragua                        45\n",
              "Greece                           44\n",
              "Ecuador                          40\n",
              "Peru                             39\n",
              "Ireland                          31\n",
              "France                           30\n",
              "Thailand                         28\n",
              "Hong                             27\n",
              "Cambodia                         22\n",
              "Trinadad&Tobago                  21\n",
              "Honduras                         19\n",
              "Yugoslavia                       19\n",
              "Scotland                         18\n",
              "Outlying-US(Guam-USVI-etc)       18\n",
              "Hungary                          17\n",
              "Laos                             17\n",
              "Holand-Netherlands                1\n",
              "Name: country, dtype: int64"
            ]
          },
          "metadata": {},
          "execution_count": 30
        }
      ]
    },
    {
      "cell_type": "code",
      "metadata": {
        "colab": {
          "base_uri": "https://localhost:8080/"
        },
        "id": "teb94hkShMVA",
        "outputId": "951ab37b-9301-433c-f2c3-0caac897c135"
      },
      "source": [
        "#checking the Special characters still exists \n",
        "df1.country.value_counts()"
      ],
      "execution_count": null,
      "outputs": [
        {
          "output_type": "execute_result",
          "data": {
            "text/plain": [
              "United-States         819\n",
              "Mexico                 13\n",
              "Poland                  8\n",
              "Puerto-Rico             5\n",
              "Canada                  4\n",
              "El-Salvador             4\n",
              "Jamaica                 3\n",
              "Philippines             3\n",
              "Nicaragua               3\n",
              "Taiwan                  3\n",
              "Columbia                3\n",
              "Germany                 3\n",
              "Italy                   3\n",
              "Portugal                3\n",
              "Cuba                    2\n",
              "England                 2\n",
              "South                   2\n",
              "China                   2\n",
              "Ecuador                 2\n",
              "France                  2\n",
              "India                   2\n",
              "Trinadad&Tobago         1\n",
              "Haiti                   1\n",
              "Dominican-Republic      1\n",
              "Thailand                1\n",
              "Guatemala               1\n",
              "Laos                    1\n",
              "Greece                  1\n",
              "Cambodia                1\n",
              "Name: country, dtype: int64"
            ]
          },
          "metadata": {},
          "execution_count": 31
        }
      ]
    },
    {
      "cell_type": "code",
      "metadata": {
        "id": "XvUTbDhsmFxf"
      },
      "source": [
        "#dropping un-used data from the dataset \n",
        "df.drop(['educational-num','age', 'hours per week', 'fnlwgt', 'capital gain','capital loss', 'country'], axis=1, inplace=True)"
      ],
      "execution_count": null,
      "outputs": []
    },
    {
      "cell_type": "code",
      "metadata": {
        "id": "Edttas9ChRsD"
      },
      "source": [
        "#dropping un-used data from the dataset \n",
        "df1.drop(['educational-num','age', 'hours per week', 'fnlwgt', 'capital gain','capital loss', 'country'], axis=1, inplace=True)"
      ],
      "execution_count": null,
      "outputs": []
    },
    {
      "cell_type": "code",
      "metadata": {
        "id": "EEjZ9y4bmFxf",
        "colab": {
          "base_uri": "https://localhost:8080/"
        },
        "outputId": "de51e1bd-002e-4a7b-8f90-73e59ac68619"
      },
      "source": [
        "# Let's see how many unique categories we have in this property\n",
        "income = set(df['income'])\n",
        "print(income)"
      ],
      "execution_count": null,
      "outputs": [
        {
          "output_type": "stream",
          "text": [
            "{0, 1}\n"
          ],
          "name": "stdout"
        }
      ]
    },
    {
      "cell_type": "code",
      "metadata": {
        "id": "2joG9GkjmFxf"
      },
      "source": [
        "#mapping the data into numerical data using map function\n",
        "#df['income'] = df['income'].map({'<=50K': 0, '>50K': 1}).astype(int)"
      ],
      "execution_count": null,
      "outputs": []
    },
    {
      "cell_type": "code",
      "metadata": {
        "id": "h8SaCDUrmFxg",
        "colab": {
          "base_uri": "https://localhost:8080/",
          "height": 202
        },
        "outputId": "03621299-2dc2-40af-cfa4-7d07d28704d8"
      },
      "source": [
        "#check the data is replaced \n",
        "df.head()"
      ],
      "execution_count": null,
      "outputs": [
        {
          "output_type": "execute_result",
          "data": {
            "text/html": [
              "<div>\n",
              "<style scoped>\n",
              "    .dataframe tbody tr th:only-of-type {\n",
              "        vertical-align: middle;\n",
              "    }\n",
              "\n",
              "    .dataframe tbody tr th {\n",
              "        vertical-align: top;\n",
              "    }\n",
              "\n",
              "    .dataframe thead th {\n",
              "        text-align: right;\n",
              "    }\n",
              "</style>\n",
              "<table border=\"1\" class=\"dataframe\">\n",
              "  <thead>\n",
              "    <tr style=\"text-align: right;\">\n",
              "      <th></th>\n",
              "      <th>workclass</th>\n",
              "      <th>education</th>\n",
              "      <th>marital</th>\n",
              "      <th>occupation</th>\n",
              "      <th>relationship</th>\n",
              "      <th>race</th>\n",
              "      <th>gender</th>\n",
              "      <th>income</th>\n",
              "    </tr>\n",
              "  </thead>\n",
              "  <tbody>\n",
              "    <tr>\n",
              "      <th>0</th>\n",
              "      <td>Private</td>\n",
              "      <td>Doctorate</td>\n",
              "      <td>Divorced</td>\n",
              "      <td>Exec-managerial</td>\n",
              "      <td>Not-in-family</td>\n",
              "      <td>White</td>\n",
              "      <td>Male</td>\n",
              "      <td>1</td>\n",
              "    </tr>\n",
              "    <tr>\n",
              "      <th>1</th>\n",
              "      <td>Private</td>\n",
              "      <td>12th</td>\n",
              "      <td>Never-married</td>\n",
              "      <td>Other-service</td>\n",
              "      <td>Own-child</td>\n",
              "      <td>White</td>\n",
              "      <td>Male</td>\n",
              "      <td>0</td>\n",
              "    </tr>\n",
              "    <tr>\n",
              "      <th>2</th>\n",
              "      <td>Private</td>\n",
              "      <td>Bachelors</td>\n",
              "      <td>Married-civ-spouse</td>\n",
              "      <td>Exec-managerial</td>\n",
              "      <td>Husband</td>\n",
              "      <td>White</td>\n",
              "      <td>Male</td>\n",
              "      <td>1</td>\n",
              "    </tr>\n",
              "    <tr>\n",
              "      <th>3</th>\n",
              "      <td>State-gov</td>\n",
              "      <td>7th-8th</td>\n",
              "      <td>Married-civ-spouse</td>\n",
              "      <td>Transport-moving</td>\n",
              "      <td>Husband</td>\n",
              "      <td>White</td>\n",
              "      <td>Male</td>\n",
              "      <td>0</td>\n",
              "    </tr>\n",
              "    <tr>\n",
              "      <th>4</th>\n",
              "      <td>State-gov</td>\n",
              "      <td>Some-college</td>\n",
              "      <td>Never-married</td>\n",
              "      <td>Other-service</td>\n",
              "      <td>Not-in-family</td>\n",
              "      <td>Black</td>\n",
              "      <td>Male</td>\n",
              "      <td>0</td>\n",
              "    </tr>\n",
              "  </tbody>\n",
              "</table>\n",
              "</div>"
            ],
            "text/plain": [
              "   workclass     education             marital  ...   race gender income\n",
              "0    Private     Doctorate            Divorced  ...  White   Male      1\n",
              "1    Private          12th       Never-married  ...  White   Male      0\n",
              "2    Private     Bachelors  Married-civ-spouse  ...  White   Male      1\n",
              "3  State-gov       7th-8th  Married-civ-spouse  ...  White   Male      0\n",
              "4  State-gov  Some-college       Never-married  ...  Black   Male      0\n",
              "\n",
              "[5 rows x 8 columns]"
            ]
          },
          "metadata": {},
          "execution_count": 36
        }
      ]
    },
    {
      "cell_type": "code",
      "metadata": {
        "colab": {
          "base_uri": "https://localhost:8080/",
          "height": 202
        },
        "id": "59hSaxuShmc5",
        "outputId": "6905e329-092f-4f64-9b11-983fa14bb663"
      },
      "source": [
        "#check the data is replaced \n",
        "df1.head()"
      ],
      "execution_count": null,
      "outputs": [
        {
          "output_type": "execute_result",
          "data": {
            "text/html": [
              "<div>\n",
              "<style scoped>\n",
              "    .dataframe tbody tr th:only-of-type {\n",
              "        vertical-align: middle;\n",
              "    }\n",
              "\n",
              "    .dataframe tbody tr th {\n",
              "        vertical-align: top;\n",
              "    }\n",
              "\n",
              "    .dataframe thead th {\n",
              "        text-align: right;\n",
              "    }\n",
              "</style>\n",
              "<table border=\"1\" class=\"dataframe\">\n",
              "  <thead>\n",
              "    <tr style=\"text-align: right;\">\n",
              "      <th></th>\n",
              "      <th>workclass</th>\n",
              "      <th>education</th>\n",
              "      <th>marital</th>\n",
              "      <th>occupation</th>\n",
              "      <th>relationship</th>\n",
              "      <th>race</th>\n",
              "      <th>gender</th>\n",
              "    </tr>\n",
              "  </thead>\n",
              "  <tbody>\n",
              "    <tr>\n",
              "      <th>0</th>\n",
              "      <td>Self-emp-not-inc</td>\n",
              "      <td>HS-grad</td>\n",
              "      <td>Married-civ-spouse</td>\n",
              "      <td>Craft-repair</td>\n",
              "      <td>Husband</td>\n",
              "      <td>White</td>\n",
              "      <td>Male</td>\n",
              "    </tr>\n",
              "    <tr>\n",
              "      <th>1</th>\n",
              "      <td>Private</td>\n",
              "      <td>Assoc-acdm</td>\n",
              "      <td>Married-civ-spouse</td>\n",
              "      <td>Craft-repair</td>\n",
              "      <td>Husband</td>\n",
              "      <td>White</td>\n",
              "      <td>Male</td>\n",
              "    </tr>\n",
              "    <tr>\n",
              "      <th>2</th>\n",
              "      <td>Private</td>\n",
              "      <td>HS-grad</td>\n",
              "      <td>Married-civ-spouse</td>\n",
              "      <td>Craft-repair</td>\n",
              "      <td>Husband</td>\n",
              "      <td>Black</td>\n",
              "      <td>Male</td>\n",
              "    </tr>\n",
              "    <tr>\n",
              "      <th>3</th>\n",
              "      <td>Private</td>\n",
              "      <td>12th</td>\n",
              "      <td>Never-married</td>\n",
              "      <td>Handlers-cleaners</td>\n",
              "      <td>Own-child</td>\n",
              "      <td>White</td>\n",
              "      <td>Male</td>\n",
              "    </tr>\n",
              "    <tr>\n",
              "      <th>4</th>\n",
              "      <td>Self-emp-not-inc</td>\n",
              "      <td>HS-grad</td>\n",
              "      <td>Married-civ-spouse</td>\n",
              "      <td>Farming-fishing</td>\n",
              "      <td>Husband</td>\n",
              "      <td>White</td>\n",
              "      <td>Male</td>\n",
              "    </tr>\n",
              "  </tbody>\n",
              "</table>\n",
              "</div>"
            ],
            "text/plain": [
              "          workclass   education             marital  ... relationship   race gender\n",
              "0  Self-emp-not-inc     HS-grad  Married-civ-spouse  ...      Husband  White   Male\n",
              "1           Private  Assoc-acdm  Married-civ-spouse  ...      Husband  White   Male\n",
              "2           Private     HS-grad  Married-civ-spouse  ...      Husband  Black   Male\n",
              "3           Private        12th       Never-married  ...    Own-child  White   Male\n",
              "4  Self-emp-not-inc     HS-grad  Married-civ-spouse  ...      Husband  White   Male\n",
              "\n",
              "[5 rows x 7 columns]"
            ]
          },
          "metadata": {},
          "execution_count": 37
        }
      ]
    },
    {
      "cell_type": "code",
      "metadata": {
        "id": "AUAjZVeqmFxg",
        "colab": {
          "base_uri": "https://localhost:8080/"
        },
        "outputId": "96a9b09f-3941-4cb6-b64c-cb4663eb77fe"
      },
      "source": [
        "# Let's see how many unique categories we have in this gender property\n",
        "gender = set(df['gender'])\n",
        "print(gender)"
      ],
      "execution_count": null,
      "outputs": [
        {
          "output_type": "stream",
          "text": [
            "{'Male', 'Female'}\n"
          ],
          "name": "stdout"
        }
      ]
    },
    {
      "cell_type": "code",
      "metadata": {
        "colab": {
          "base_uri": "https://localhost:8080/"
        },
        "id": "bY1lODdhhrLx",
        "outputId": "1db511ca-c38d-4637-e992-1b6332e6bfd5"
      },
      "source": [
        "# Let's see how many unique categories we have in this gender property\n",
        "gender1 = set(df1['gender'])\n",
        "print(gender1)"
      ],
      "execution_count": null,
      "outputs": [
        {
          "output_type": "stream",
          "text": [
            "{'Male', 'Female'}\n"
          ],
          "name": "stdout"
        }
      ]
    },
    {
      "cell_type": "code",
      "metadata": {
        "id": "Tyw1FrlHmFxg"
      },
      "source": [
        "#Mapping the values to numerical values \n",
        "df['gender'] = df['gender'].map({'Male': 0, 'Female': 1}).astype(int)"
      ],
      "execution_count": null,
      "outputs": []
    },
    {
      "cell_type": "code",
      "metadata": {
        "id": "7jjg-Iq_hx29"
      },
      "source": [
        "#Mapping the values to numerical values \n",
        "df1['gender'] = df1['gender'].map({'Male': 0, 'Female': 1}).astype(int)"
      ],
      "execution_count": null,
      "outputs": []
    },
    {
      "cell_type": "code",
      "metadata": {
        "id": "9tIqGutWmFxh",
        "colab": {
          "base_uri": "https://localhost:8080/"
        },
        "outputId": "cc21308f-7707-4546-b431-d162607be008"
      },
      "source": [
        "# How many unique races we got here?\n",
        "race = set(df['race'])\n",
        "print(race)"
      ],
      "execution_count": null,
      "outputs": [
        {
          "output_type": "stream",
          "text": [
            "{'Amer-Indian-Eskimo', 'Black', 'Other', 'White', 'Asian-Pac-Islander'}\n"
          ],
          "name": "stdout"
        }
      ]
    },
    {
      "cell_type": "code",
      "metadata": {
        "id": "l-C69d36mFxh"
      },
      "source": [
        "#Mapping the values to numerical values \n",
        "df['race'] = df['race'].map({'Black': 0, 'Asian-Pac-Islander': 1, 'Other': 2, 'White': 3, \n",
        "                                             'Amer-Indian-Eskimo': 4}).astype(int)"
      ],
      "execution_count": null,
      "outputs": []
    },
    {
      "cell_type": "code",
      "metadata": {
        "id": "7e0pmBZHh33M"
      },
      "source": [
        "#Mapping the values to numerical values \n",
        "df1['race'] = df1['race'].map({'Black': 0, 'Asian-Pac-Islander': 1, 'Other': 2, 'White': 3, \n",
        "                                             'Amer-Indian-Eskimo': 4}).astype(int)"
      ],
      "execution_count": null,
      "outputs": []
    },
    {
      "cell_type": "code",
      "metadata": {
        "id": "kMNtDtDVmFxi",
        "colab": {
          "base_uri": "https://localhost:8080/"
        },
        "outputId": "70ed2f24-b734-4e76-95ed-d2d78e892bd7"
      },
      "source": [
        "# How many unique races we got here?\n",
        "Marital = set(df['marital'])\n",
        "print(Marital)"
      ],
      "execution_count": null,
      "outputs": [
        {
          "output_type": "stream",
          "text": [
            "{'Married-civ-spouse', 'Married-AF-spouse', 'Never-married', 'Separated', 'Widowed', 'Married-spouse-absent', 'Divorced'}\n"
          ],
          "name": "stdout"
        }
      ]
    },
    {
      "cell_type": "code",
      "metadata": {
        "id": "AbwHF5GCmFxj"
      },
      "source": [
        "#Mapping the values to numerical values \n",
        "df['marital'] = df['marital'].map({'Married-spouse-absent': 0, 'Widowed': 1, \n",
        "                                                             'Married-civ-spouse': 2, 'Separated': 3, 'Divorced': 4, \n",
        "                                                             'Never-married': 5, 'Married-AF-spouse': 6}).astype(int)"
      ],
      "execution_count": null,
      "outputs": []
    },
    {
      "cell_type": "code",
      "metadata": {
        "id": "4DU5SZzMh82d"
      },
      "source": [
        "#Mapping the values to numerical values \n",
        "df1['marital'] = df1['marital'].map({'Married-spouse-absent': 0, 'Widowed': 1, \n",
        "                                                             'Married-civ-spouse': 2, 'Separated': 3, 'Divorced': 4, \n",
        "                                                             'Never-married': 5, 'Married-AF-spouse': 6}).astype(int)"
      ],
      "execution_count": null,
      "outputs": []
    },
    {
      "cell_type": "code",
      "metadata": {
        "id": "_IhPYE3rmFxj",
        "colab": {
          "base_uri": "https://localhost:8080/"
        },
        "outputId": "36bde9db-c75a-4a2f-ad48-4bf463e61cb3"
      },
      "source": [
        "# How many unique Workclass we got here?\n",
        "emp = set(df['workclass'])\n",
        "print(emp)"
      ],
      "execution_count": null,
      "outputs": [
        {
          "output_type": "stream",
          "text": [
            "{'Self-emp-not-inc', 'Private', 'Self-emp-inc', 'Without-pay', 'Local-gov', 'Federal-gov', 'State-gov'}\n"
          ],
          "name": "stdout"
        }
      ]
    },
    {
      "cell_type": "code",
      "metadata": {
        "id": "PqPNF3I0mFxj"
      },
      "source": [
        "#Mapping the values to numerical values\n",
        "df['workclass'] = df['workclass'].map({'Self-emp-inc': 0, 'State-gov': 1, \n",
        "                                                             'Federal-gov': 2, 'Without-pay': 3, 'Local-gov': 4, \n",
        "                                                             'Private': 5, 'Self-emp-not-inc': 6}).astype(int)"
      ],
      "execution_count": null,
      "outputs": []
    },
    {
      "cell_type": "code",
      "metadata": {
        "id": "k_hwfAJ7iEH4"
      },
      "source": [
        "#Mapping the values to numerical values\n",
        "df1['workclass'] = df1['workclass'].map({'Self-emp-inc': 0, 'State-gov': 1, \n",
        "                                                             'Federal-gov': 2, 'Without-pay': 3, 'Local-gov': 4, \n",
        "                                                             'Private': 5, 'Self-emp-not-inc': 6}).astype(int)"
      ],
      "execution_count": null,
      "outputs": []
    },
    {
      "cell_type": "code",
      "metadata": {
        "id": "TOCfUBU-mFxk",
        "colab": {
          "base_uri": "https://localhost:8080/"
        },
        "outputId": "2ee558a5-32a2-4a73-a279-44540dfb3367"
      },
      "source": [
        "# How many unique Education we got here?\n",
        "ed = set(df['education'])\n",
        "print(ed)"
      ],
      "execution_count": null,
      "outputs": [
        {
          "output_type": "stream",
          "text": [
            "{'Prof-school', '7th-8th', 'Preschool', 'Bachelors', 'Assoc-voc', '9th', 'Assoc-acdm', 'Doctorate', '12th', '10th', 'Some-college', 'Masters', 'HS-grad', '11th', '5th-6th', '1st-4th'}\n"
          ],
          "name": "stdout"
        }
      ]
    },
    {
      "cell_type": "code",
      "metadata": {
        "id": "UJdHCoSVmFxk"
      },
      "source": [
        "#Mapping the values to numerical values\n",
        "df['education'] = df['education'].map({'Some-college': 0, 'Preschool': 1, \n",
        "                                                        '5th-6th': 2, 'HS-grad': 3, 'Masters': 4, \n",
        "                                                        '12th': 5, '7th-8th': 6, 'Prof-school': 7,\n",
        "                                                        '1st-4th': 8, 'Assoc-acdm': 9,\n",
        "                                                        'Doctorate': 10, '11th': 11,\n",
        "                                                        'Bachelors': 12, '10th': 13,\n",
        "                                                        'Assoc-voc': 14,\n",
        "                                                        '9th': 15}).astype(int)"
      ],
      "execution_count": null,
      "outputs": []
    },
    {
      "cell_type": "code",
      "metadata": {
        "id": "alMHkvobiJT8"
      },
      "source": [
        "#Mapping the values to numerical values\n",
        "df1['education'] = df1['education'].map({'Some-college': 0, 'Preschool': 1, \n",
        "                                                        '5th-6th': 2, 'HS-grad': 3, 'Masters': 4, \n",
        "                                                        '12th': 5, '7th-8th': 6, 'Prof-school': 7,\n",
        "                                                        '1st-4th': 8, 'Assoc-acdm': 9,\n",
        "                                                        'Doctorate': 10, '11th': 11,\n",
        "                                                        'Bachelors': 12, '10th': 13,\n",
        "                                                        'Assoc-voc': 14,\n",
        "                                                        '9th': 15}).astype(int)"
      ],
      "execution_count": null,
      "outputs": []
    },
    {
      "cell_type": "code",
      "metadata": {
        "id": "euYMdwv4mFxk",
        "colab": {
          "base_uri": "https://localhost:8080/"
        },
        "outputId": "a0635d55-11b6-467c-b624-0ba6f8edba7f"
      },
      "source": [
        "# Let's see how many unique categories we have in this Occupation property after cleaning it \n",
        "occupation = set(df['occupation'])\n",
        "print(occupation)"
      ],
      "execution_count": null,
      "outputs": [
        {
          "output_type": "stream",
          "text": [
            "{'Craft-repair', 'Other-service', 'Exec-managerial', 'Sales', 'Tech-support', 'Armed-Forces', 'Farming-fishing', 'Handlers-cleaners', 'Prof-specialty', 'Priv-house-serv', 'Transport-moving', 'Adm-clerical', 'Protective-serv', 'Machine-op-inspct'}\n"
          ],
          "name": "stdout"
        }
      ]
    },
    {
      "cell_type": "code",
      "metadata": {
        "id": "v9jpEQUomFxl"
      },
      "source": [
        "# Now we classify them as numbers instead of their names.\n",
        "df['occupation'] = df['occupation'].map({ 'Farming-fishing': 1, 'Tech-support': 2, \n",
        "                                          'Adm-clerical': 3, 'Handlers-cleaners': 4, \n",
        "                                         'Prof-specialty': 5,'Machine-op-inspct': 6, \n",
        "                                         'Exec-managerial': 7, \n",
        "                                         'Priv-house-serv': 8,\n",
        "                                         'Craft-repair': 9, \n",
        "                                         'Sales': 10, \n",
        "                                         'Transport-moving': 11, \n",
        "                                         'Armed-Forces': 12, \n",
        "                                         'Other-service': 13,  \n",
        "                                         'Protective-serv': 14}).astype(int)"
      ],
      "execution_count": null,
      "outputs": []
    },
    {
      "cell_type": "code",
      "metadata": {
        "id": "npXQ7bopiOuh"
      },
      "source": [
        "# Now we classify them as numbers instead of their names.\n",
        "df1['occupation'] = df1['occupation'].map({ 'Farming-fishing': 1, 'Tech-support': 2, \n",
        "                                          'Adm-clerical': 3, 'Handlers-cleaners': 4, \n",
        "                                         'Prof-specialty': 5,'Machine-op-inspct': 6, \n",
        "                                         'Exec-managerial': 7, \n",
        "                                         'Priv-house-serv': 8,\n",
        "                                         'Craft-repair': 9, \n",
        "                                         'Sales': 10, \n",
        "                                         'Transport-moving': 11, \n",
        "                                         'Armed-Forces': 12, \n",
        "                                         'Other-service': 13,  \n",
        "                                         'Protective-serv': 14}).astype(int)"
      ],
      "execution_count": null,
      "outputs": []
    },
    {
      "cell_type": "code",
      "metadata": {
        "id": "SbgRrNKSmFxl",
        "colab": {
          "base_uri": "https://localhost:8080/"
        },
        "outputId": "285fa090-fd58-4035-dcbb-cf02163afba9"
      },
      "source": [
        "# How many unique Relationship we got here?\n",
        "relationship = set(df['relationship'])\n",
        "print(relationship)"
      ],
      "execution_count": null,
      "outputs": [
        {
          "output_type": "stream",
          "text": [
            "{'Other-relative', 'Wife', 'Not-in-family', 'Own-child', 'Husband', 'Unmarried'}\n"
          ],
          "name": "stdout"
        }
      ]
    },
    {
      "cell_type": "code",
      "metadata": {
        "id": "owQXGA4EmFxl"
      },
      "source": [
        "#Mapping the values to numerical values\n",
        "df['relationship'] = df['relationship'].map({'Not-in-family': 0, 'Wife': 1, \n",
        "                                                             'Other-relative': 2, \n",
        "                                                             'Unmarried': 3, \n",
        "                                                             'Husband': 4, \n",
        "                                                             'Own-child': 5}).astype(int)"
      ],
      "execution_count": null,
      "outputs": []
    },
    {
      "cell_type": "code",
      "metadata": {
        "id": "SDAMTfYZnCuk"
      },
      "source": [
        "#Mapping the values to numerical values\n",
        "df1['relationship'] = df1['relationship'].map({'Not-in-family': 0, 'Wife': 1, \n",
        "                                                             'Other-relative': 2, \n",
        "                                                             'Unmarried': 3, \n",
        "                                                             'Husband': 4, \n",
        "                                                             'Own-child': 5}).astype(int)"
      ],
      "execution_count": null,
      "outputs": []
    },
    {
      "cell_type": "code",
      "metadata": {
        "id": "bmqiES88mFxm",
        "colab": {
          "base_uri": "https://localhost:8080/",
          "height": 355
        },
        "outputId": "840d863a-3eb1-423b-e653-16505a660590"
      },
      "source": [
        "#displaying the cleaned data to see if the map as worked\n",
        "df.head(10)\n",
        "#Now below we see all the data is numerical data that is proper for our data feature analysis "
      ],
      "execution_count": null,
      "outputs": [
        {
          "output_type": "execute_result",
          "data": {
            "text/html": [
              "<div>\n",
              "<style scoped>\n",
              "    .dataframe tbody tr th:only-of-type {\n",
              "        vertical-align: middle;\n",
              "    }\n",
              "\n",
              "    .dataframe tbody tr th {\n",
              "        vertical-align: top;\n",
              "    }\n",
              "\n",
              "    .dataframe thead th {\n",
              "        text-align: right;\n",
              "    }\n",
              "</style>\n",
              "<table border=\"1\" class=\"dataframe\">\n",
              "  <thead>\n",
              "    <tr style=\"text-align: right;\">\n",
              "      <th></th>\n",
              "      <th>workclass</th>\n",
              "      <th>education</th>\n",
              "      <th>marital</th>\n",
              "      <th>occupation</th>\n",
              "      <th>relationship</th>\n",
              "      <th>race</th>\n",
              "      <th>gender</th>\n",
              "      <th>income</th>\n",
              "    </tr>\n",
              "  </thead>\n",
              "  <tbody>\n",
              "    <tr>\n",
              "      <th>0</th>\n",
              "      <td>5</td>\n",
              "      <td>10</td>\n",
              "      <td>4</td>\n",
              "      <td>7</td>\n",
              "      <td>0</td>\n",
              "      <td>3</td>\n",
              "      <td>0</td>\n",
              "      <td>1</td>\n",
              "    </tr>\n",
              "    <tr>\n",
              "      <th>1</th>\n",
              "      <td>5</td>\n",
              "      <td>5</td>\n",
              "      <td>5</td>\n",
              "      <td>13</td>\n",
              "      <td>5</td>\n",
              "      <td>3</td>\n",
              "      <td>0</td>\n",
              "      <td>0</td>\n",
              "    </tr>\n",
              "    <tr>\n",
              "      <th>2</th>\n",
              "      <td>5</td>\n",
              "      <td>12</td>\n",
              "      <td>2</td>\n",
              "      <td>7</td>\n",
              "      <td>4</td>\n",
              "      <td>3</td>\n",
              "      <td>0</td>\n",
              "      <td>1</td>\n",
              "    </tr>\n",
              "    <tr>\n",
              "      <th>3</th>\n",
              "      <td>1</td>\n",
              "      <td>6</td>\n",
              "      <td>2</td>\n",
              "      <td>11</td>\n",
              "      <td>4</td>\n",
              "      <td>3</td>\n",
              "      <td>0</td>\n",
              "      <td>0</td>\n",
              "    </tr>\n",
              "    <tr>\n",
              "      <th>4</th>\n",
              "      <td>1</td>\n",
              "      <td>0</td>\n",
              "      <td>5</td>\n",
              "      <td>13</td>\n",
              "      <td>0</td>\n",
              "      <td>0</td>\n",
              "      <td>0</td>\n",
              "      <td>0</td>\n",
              "    </tr>\n",
              "    <tr>\n",
              "      <th>5</th>\n",
              "      <td>1</td>\n",
              "      <td>3</td>\n",
              "      <td>5</td>\n",
              "      <td>3</td>\n",
              "      <td>5</td>\n",
              "      <td>3</td>\n",
              "      <td>0</td>\n",
              "      <td>0</td>\n",
              "    </tr>\n",
              "    <tr>\n",
              "      <th>6</th>\n",
              "      <td>5</td>\n",
              "      <td>15</td>\n",
              "      <td>2</td>\n",
              "      <td>6</td>\n",
              "      <td>1</td>\n",
              "      <td>3</td>\n",
              "      <td>1</td>\n",
              "      <td>0</td>\n",
              "    </tr>\n",
              "    <tr>\n",
              "      <th>7</th>\n",
              "      <td>6</td>\n",
              "      <td>12</td>\n",
              "      <td>2</td>\n",
              "      <td>10</td>\n",
              "      <td>4</td>\n",
              "      <td>3</td>\n",
              "      <td>0</td>\n",
              "      <td>0</td>\n",
              "    </tr>\n",
              "    <tr>\n",
              "      <th>8</th>\n",
              "      <td>5</td>\n",
              "      <td>3</td>\n",
              "      <td>5</td>\n",
              "      <td>4</td>\n",
              "      <td>0</td>\n",
              "      <td>3</td>\n",
              "      <td>0</td>\n",
              "      <td>0</td>\n",
              "    </tr>\n",
              "    <tr>\n",
              "      <th>9</th>\n",
              "      <td>5</td>\n",
              "      <td>3</td>\n",
              "      <td>2</td>\n",
              "      <td>7</td>\n",
              "      <td>4</td>\n",
              "      <td>3</td>\n",
              "      <td>0</td>\n",
              "      <td>1</td>\n",
              "    </tr>\n",
              "  </tbody>\n",
              "</table>\n",
              "</div>"
            ],
            "text/plain": [
              "   workclass  education  marital  ...  race  gender  income\n",
              "0          5         10        4  ...     3       0       1\n",
              "1          5          5        5  ...     3       0       0\n",
              "2          5         12        2  ...     3       0       1\n",
              "3          1          6        2  ...     3       0       0\n",
              "4          1          0        5  ...     0       0       0\n",
              "5          1          3        5  ...     3       0       0\n",
              "6          5         15        2  ...     3       1       0\n",
              "7          6         12        2  ...     3       0       0\n",
              "8          5          3        5  ...     3       0       0\n",
              "9          5          3        2  ...     3       0       1\n",
              "\n",
              "[10 rows x 8 columns]"
            ]
          },
          "metadata": {},
          "execution_count": 60
        }
      ]
    },
    {
      "cell_type": "code",
      "metadata": {
        "colab": {
          "base_uri": "https://localhost:8080/",
          "height": 355
        },
        "id": "EnH-j8FNnFeA",
        "outputId": "2e8188ec-8542-4b57-9800-70b026de21d2"
      },
      "source": [
        "#displaying the cleaned data to see if the map as worked\n",
        "df1.head(10)\n",
        "#Now below we see all the data is numerical data that is proper for our data feature analysis "
      ],
      "execution_count": null,
      "outputs": [
        {
          "output_type": "execute_result",
          "data": {
            "text/html": [
              "<div>\n",
              "<style scoped>\n",
              "    .dataframe tbody tr th:only-of-type {\n",
              "        vertical-align: middle;\n",
              "    }\n",
              "\n",
              "    .dataframe tbody tr th {\n",
              "        vertical-align: top;\n",
              "    }\n",
              "\n",
              "    .dataframe thead th {\n",
              "        text-align: right;\n",
              "    }\n",
              "</style>\n",
              "<table border=\"1\" class=\"dataframe\">\n",
              "  <thead>\n",
              "    <tr style=\"text-align: right;\">\n",
              "      <th></th>\n",
              "      <th>workclass</th>\n",
              "      <th>education</th>\n",
              "      <th>marital</th>\n",
              "      <th>occupation</th>\n",
              "      <th>relationship</th>\n",
              "      <th>race</th>\n",
              "      <th>gender</th>\n",
              "    </tr>\n",
              "  </thead>\n",
              "  <tbody>\n",
              "    <tr>\n",
              "      <th>0</th>\n",
              "      <td>6</td>\n",
              "      <td>3</td>\n",
              "      <td>2</td>\n",
              "      <td>9</td>\n",
              "      <td>4</td>\n",
              "      <td>3</td>\n",
              "      <td>0</td>\n",
              "    </tr>\n",
              "    <tr>\n",
              "      <th>1</th>\n",
              "      <td>5</td>\n",
              "      <td>9</td>\n",
              "      <td>2</td>\n",
              "      <td>9</td>\n",
              "      <td>4</td>\n",
              "      <td>3</td>\n",
              "      <td>0</td>\n",
              "    </tr>\n",
              "    <tr>\n",
              "      <th>2</th>\n",
              "      <td>5</td>\n",
              "      <td>3</td>\n",
              "      <td>2</td>\n",
              "      <td>9</td>\n",
              "      <td>4</td>\n",
              "      <td>0</td>\n",
              "      <td>0</td>\n",
              "    </tr>\n",
              "    <tr>\n",
              "      <th>3</th>\n",
              "      <td>5</td>\n",
              "      <td>5</td>\n",
              "      <td>5</td>\n",
              "      <td>4</td>\n",
              "      <td>5</td>\n",
              "      <td>3</td>\n",
              "      <td>0</td>\n",
              "    </tr>\n",
              "    <tr>\n",
              "      <th>4</th>\n",
              "      <td>6</td>\n",
              "      <td>3</td>\n",
              "      <td>2</td>\n",
              "      <td>1</td>\n",
              "      <td>4</td>\n",
              "      <td>3</td>\n",
              "      <td>0</td>\n",
              "    </tr>\n",
              "    <tr>\n",
              "      <th>5</th>\n",
              "      <td>5</td>\n",
              "      <td>12</td>\n",
              "      <td>2</td>\n",
              "      <td>5</td>\n",
              "      <td>4</td>\n",
              "      <td>3</td>\n",
              "      <td>0</td>\n",
              "    </tr>\n",
              "    <tr>\n",
              "      <th>6</th>\n",
              "      <td>5</td>\n",
              "      <td>12</td>\n",
              "      <td>5</td>\n",
              "      <td>10</td>\n",
              "      <td>0</td>\n",
              "      <td>3</td>\n",
              "      <td>0</td>\n",
              "    </tr>\n",
              "    <tr>\n",
              "      <th>7</th>\n",
              "      <td>0</td>\n",
              "      <td>7</td>\n",
              "      <td>5</td>\n",
              "      <td>10</td>\n",
              "      <td>0</td>\n",
              "      <td>3</td>\n",
              "      <td>1</td>\n",
              "    </tr>\n",
              "    <tr>\n",
              "      <th>8</th>\n",
              "      <td>5</td>\n",
              "      <td>4</td>\n",
              "      <td>5</td>\n",
              "      <td>7</td>\n",
              "      <td>0</td>\n",
              "      <td>3</td>\n",
              "      <td>1</td>\n",
              "    </tr>\n",
              "    <tr>\n",
              "      <th>9</th>\n",
              "      <td>5</td>\n",
              "      <td>3</td>\n",
              "      <td>4</td>\n",
              "      <td>7</td>\n",
              "      <td>0</td>\n",
              "      <td>4</td>\n",
              "      <td>1</td>\n",
              "    </tr>\n",
              "  </tbody>\n",
              "</table>\n",
              "</div>"
            ],
            "text/plain": [
              "   workclass  education  marital  occupation  relationship  race  gender\n",
              "0          6          3        2           9             4     3       0\n",
              "1          5          9        2           9             4     3       0\n",
              "2          5          3        2           9             4     0       0\n",
              "3          5          5        5           4             5     3       0\n",
              "4          6          3        2           1             4     3       0\n",
              "5          5         12        2           5             4     3       0\n",
              "6          5         12        5          10             0     3       0\n",
              "7          0          7        5          10             0     3       1\n",
              "8          5          4        5           7             0     3       1\n",
              "9          5          3        4           7             0     4       1"
            ]
          },
          "metadata": {},
          "execution_count": 61
        }
      ]
    },
    {
      "cell_type": "code",
      "metadata": {
        "id": "p-f4W7iFmFxm",
        "colab": {
          "base_uri": "https://localhost:8080/",
          "height": 300
        },
        "outputId": "f28737d5-9046-4da0-90db-6afa9ec0072e"
      },
      "source": [
        "#plotting a bar graph for Education against Income to see the co-relation between these columns \n",
        "df.groupby('education').income.mean().plot(kind='bar')"
      ],
      "execution_count": null,
      "outputs": [
        {
          "output_type": "execute_result",
          "data": {
            "text/plain": [
              "<matplotlib.axes._subplots.AxesSubplot at 0x7fa77387cf50>"
            ]
          },
          "metadata": {},
          "execution_count": 62
        },
        {
          "output_type": "display_data",
          "data": {
            "image/png": "[encoded data removed]",
            "text/plain": [
              "<Figure size 432x288 with 1 Axes>"
            ]
          },
          "metadata": {
            "needs_background": "light"
          }
        }
      ]
    },
    {
      "cell_type": "code",
      "metadata": {
        "id": "Gkf0UfN0mFxm",
        "colab": {
          "base_uri": "https://localhost:8080/",
          "height": 302
        },
        "outputId": "a400377a-cd2f-41e6-f494-727f6dc392d5"
      },
      "source": [
        "#plotting a bar graph for Occupation against Income to see the co-relation between these columns \n",
        "df.groupby('occupation').income.mean().plot(kind='bar')"
      ],
      "execution_count": null,
      "outputs": [
        {
          "output_type": "execute_result",
          "data": {
            "text/plain": [
              "<matplotlib.axes._subplots.AxesSubplot at 0x7fa77379e050>"
            ]
          },
          "metadata": {},
          "execution_count": 63
        },
        {
          "output_type": "display_data",
          "data": {
            "image/png": "[encoded data removed]",
            "text/plain": [
              "<Figure size 432x288 with 1 Axes>"
            ]
          },
          "metadata": {
            "needs_background": "light"
          }
        }
      ]
    },
    {
      "cell_type": "code",
      "metadata": {
        "id": "rEC5J2WgmFxn",
        "colab": {
          "base_uri": "https://localhost:8080/",
          "height": 293
        },
        "outputId": "8be02569-adf4-496e-da30-7b1cd4543266"
      },
      "source": [
        "#plotting a bar graph for Relationship against Income to see the co-relation between these columns \n",
        "df.groupby('relationship').income.mean().plot(kind='bar')"
      ],
      "execution_count": null,
      "outputs": [
        {
          "output_type": "execute_result",
          "data": {
            "text/plain": [
              "<matplotlib.axes._subplots.AxesSubplot at 0x7fa7738c6590>"
            ]
          },
          "metadata": {},
          "execution_count": 64
        },
        {
          "output_type": "display_data",
          "data": {
            "image/png": "[encoded data removed]",
            "text/plain": [
              "<Figure size 432x288 with 1 Axes>"
            ]
          },
          "metadata": {
            "needs_background": "light"
          }
        }
      ]
    },
    {
      "cell_type": "code",
      "metadata": {
        "id": "e9hCgGY5mFxn",
        "colab": {
          "base_uri": "https://localhost:8080/",
          "height": 293
        },
        "outputId": "4a7ac6fc-0d05-45c8-8975-d4e121b9fc02"
      },
      "source": [
        "#plotting a bar graph for Race against Income to see the co-relation between these columns \n",
        "df.groupby('race').income.mean().plot(kind='bar')"
      ],
      "execution_count": null,
      "outputs": [
        {
          "output_type": "execute_result",
          "data": {
            "text/plain": [
              "<matplotlib.axes._subplots.AxesSubplot at 0x7fa7731ea110>"
            ]
          },
          "metadata": {},
          "execution_count": 65
        },
        {
          "output_type": "display_data",
          "data": {
            "image/png": "[encoded data removed]",
            "text/plain": [
              "<Figure size 432x288 with 1 Axes>"
            ]
          },
          "metadata": {
            "needs_background": "light"
          }
        }
      ]
    },
    {
      "cell_type": "code",
      "metadata": {
        "id": "iHb4vdtxmFxn",
        "colab": {
          "base_uri": "https://localhost:8080/",
          "height": 293
        },
        "outputId": "78f0ddcc-775c-47c4-9e0d-e9de29c79d4a"
      },
      "source": [
        "#plotting a bar graph for Race against Income to see the co-relation between these columns \n",
        "df.groupby('gender').income.mean().plot(kind='bar')"
      ],
      "execution_count": null,
      "outputs": [
        {
          "output_type": "execute_result",
          "data": {
            "text/plain": [
              "<matplotlib.axes._subplots.AxesSubplot at 0x7fa7731e32d0>"
            ]
          },
          "metadata": {},
          "execution_count": 66
        },
        {
          "output_type": "display_data",
          "data": {
            "image/png": "[encoded data removed]",
            "text/plain": [
              "<Figure size 432x288 with 1 Axes>"
            ]
          },
          "metadata": {
            "needs_background": "light"
          }
        }
      ]
    },
    {
      "cell_type": "code",
      "metadata": {
        "id": "O7dS2i2MmFxn",
        "colab": {
          "base_uri": "https://localhost:8080/",
          "height": 293
        },
        "outputId": "8f34f4d1-b729-4283-c643-268b01ab4395"
      },
      "source": [
        "#plotting a bar graph for Race against Income to see the co-relation between these columns \n",
        "df.groupby('workclass').income.mean().plot(kind='bar')"
      ],
      "execution_count": null,
      "outputs": [
        {
          "output_type": "execute_result",
          "data": {
            "text/plain": [
              "<matplotlib.axes._subplots.AxesSubplot at 0x7fa773147550>"
            ]
          },
          "metadata": {},
          "execution_count": 67
        },
        {
          "output_type": "display_data",
          "data": {
            "image/png": "[encoded data removed]",
            "text/plain": [
              "<Figure size 432x288 with 1 Axes>"
            ]
          },
          "metadata": {
            "needs_background": "light"
          }
        }
      ]
    },
    {
      "cell_type": "code",
      "metadata": {
        "id": "4h5_hEBXmFxo",
        "colab": {
          "base_uri": "https://localhost:8080/",
          "height": 293
        },
        "outputId": "478a49f3-73de-4c83-d544-73b8ad8c9fe2"
      },
      "source": [
        "#plotting a bar graph for Race against Income to see the co-relation between these columns \n",
        "df.groupby('marital').income.mean().plot(kind='bar')"
      ],
      "execution_count": null,
      "outputs": [
        {
          "output_type": "execute_result",
          "data": {
            "text/plain": [
              "<matplotlib.axes._subplots.AxesSubplot at 0x7fa7730d0b10>"
            ]
          },
          "metadata": {},
          "execution_count": 68
        },
        {
          "output_type": "display_data",
          "data": {
            "image/png": "[encoded data removed]",
            "text/plain": [
              "<Figure size 432x288 with 1 Axes>"
            ]
          },
          "metadata": {
            "needs_background": "light"
          }
        }
      ]
    },
    {
      "cell_type": "code",
      "metadata": {
        "id": "Bu2ZDczxmFxo",
        "colab": {
          "base_uri": "https://localhost:8080/",
          "height": 543
        },
        "outputId": "8f70af0d-60e1-49d4-8e91-077288151ff5"
      },
      "source": [
        "# use the heatmap function from seaborn to plot the correlation matrix\n",
        "# annot = True to print the values inside the square\n",
        "corrmat = df.corr()\n",
        "f, ax = pplt.subplots(figsize=(12, 9))\n",
        "k = 8 #number of variables for heatmap\n",
        "cols = corrmat.nlargest(k, 'income')['income'].index\n",
        "cm = np.corrcoef(df[cols].values.T)\n",
        "sns.set(font_scale=1.25)\n",
        "hm = sns.heatmap(cm, cbar=True, annot=True, square=True, fmt='.2f', annot_kws={'size': 10}, yticklabels=cols.values, xticklabels=cols.values)\n",
        "pplt.show()\n",
        "\n",
        "#below we see that there is relation between Relationship, Education, Race, Occupation and Income which is our target \n",
        "#columns to predict so, doing more feature analysis on these columns "
      ],
      "execution_count": null,
      "outputs": [
        {
          "output_type": "display_data",
          "data": {
            "image/png": "[encoded data removed]",
            "text/plain": [
              "<Figure size 864x648 with 2 Axes>"
            ]
          },
          "metadata": {
            "needs_background": "light"
          }
        }
      ]
    },
    {
      "cell_type": "code",
      "metadata": {
        "id": "8SctlxyFmFxp",
        "colab": {
          "base_uri": "https://localhost:8080/",
          "height": 562
        },
        "outputId": "90182b9a-f533-4811-f8bb-872a4f103a3b"
      },
      "source": [
        "# Plot histogram for each numeric variable/attribute of the dataset\n",
        "\n",
        "df.hist(figsize=(12,9))\n",
        "pplt.show()"
      ],
      "execution_count": null,
      "outputs": [
        {
          "output_type": "display_data",
          "data": {
            "image/png": "[encoded data removed]",
            "text/plain": [
              "<Figure size 864x648 with 9 Axes>"
            ]
          },
          "metadata": {}
        }
      ]
    },
    {
      "cell_type": "code",
      "metadata": {
        "id": "1zU6txYEmFxp",
        "colab": {
          "base_uri": "https://localhost:8080/",
          "height": 456
        },
        "outputId": "968bcd95-7185-4b1f-8c25-6c70d0d6c652"
      },
      "source": [
        "# Density plots\n",
        "\n",
        "df.plot(kind='density', subplots=True, layout=(4,4), sharex=False, legend=True, fontsize=1, figsize=(12,16))\n",
        "pplt.show()"
      ],
      "execution_count": null,
      "outputs": [
        {
          "output_type": "display_data",
          "data": {
            "image/png": "[encoded data removed]",
            "text/plain": [
              "<Figure size 864x1152 with 16 Axes>"
            ]
          },
          "metadata": {}
        }
      ]
    },
    {
      "cell_type": "code",
      "metadata": {
        "id": "wvG1p5LvmFxp",
        "colab": {
          "base_uri": "https://localhost:8080/"
        },
        "outputId": "b3f5819c-de79-4faa-a0c2-50e8dc086c86"
      },
      "source": [
        "df.columns"
      ],
      "execution_count": null,
      "outputs": [
        {
          "output_type": "execute_result",
          "data": {
            "text/plain": [
              "Index(['workclass', 'education', 'marital', 'occupation', 'relationship',\n",
              "       'race', 'gender', 'income'],\n",
              "      dtype='object')"
            ]
          },
          "metadata": {},
          "execution_count": 72
        }
      ]
    },
    {
      "cell_type": "code",
      "metadata": {
        "id": "mw3zhWp9mFxq"
      },
      "source": [
        "#Transform the data set into a data frame \n",
        "#NOTE: cleaned_data = the data we want, \n",
        "#      X axis = We concatenate the Relationship, Education,Race,Occupation columns using np.c_ provided by the numpy library\n",
        "#      Y axis = Our target variable or the income of adult i.e Income\n",
        "df_x = pd.DataFrame(df)\n",
        "df_x = pd.DataFrame(np.c_[df['relationship'], df['education'], df['race'],df['occupation'],df['gender'],df['marital'],df['workclass']], \n",
        "                    columns = ['relationship','education','race','occupation','gender','marital','workclass'])\n",
        "df_y = pd.DataFrame(df.income)"
      ],
      "execution_count": null,
      "outputs": []
    },
    {
      "cell_type": "code",
      "metadata": {
        "id": "iaxX7jMKnM0S"
      },
      "source": [
        "#Transform the data set into a data frame \n",
        "#NOTE: cleaned_data = the data we want, \n",
        "#      X axis = We concatenate the Relationship, Education,Race,Occupation columns using np.c_ provided by the numpy library\n",
        "#      Y axis = Our target variable or the income of adult i.e Income\n",
        "df1_x = pd.DataFrame(df1)\n",
        "df1_x = pd.DataFrame(np.c_[df1['relationship'], df1['education'], df1['race'],df1['occupation'],df1['gender'],df1['marital'],df1['workclass']], \n",
        "                    columns = ['relationship','education','race','occupation','gender','marital','workclass'])\n"
      ],
      "execution_count": null,
      "outputs": []
    },
    {
      "cell_type": "code",
      "metadata": {
        "id": "0NeM3BgXmFxq",
        "colab": {
          "base_uri": "https://localhost:8080/"
        },
        "outputId": "3992e8b4-b7cd-4e69-b9fe-2561f0929b0b"
      },
      "source": [
        "#Initialize the linear regression model\n",
        "reg = LogisticRegression()\n",
        "#Split the data into 67% training and 33% testing data\n",
        "#NOTE: We have to split the dependent variables (x) and the target or independent variable (y)\n",
        "x_train, x_test, y_train, y_test = train_test_split(df_x, df_y, test_size=0.33, random_state=42)\n",
        "#Train our model with the training data\n",
        "reg.fit(x_train, y_train)\n",
        "print(x_train.shape)\n",
        "print(x_test.shape)\n",
        "print(y_train.shape)\n",
        "print(y_test.shape)"
      ],
      "execution_count": null,
      "outputs": [
        {
          "output_type": "stream",
          "text": [
            "(27287, 7)\n",
            "(13440, 7)\n",
            "(27287, 1)\n",
            "(13440, 1)\n"
          ],
          "name": "stdout"
        },
        {
          "output_type": "stream",
          "text": [
            "/usr/local/lib/python3.7/dist-packages/sklearn/utils/validation.py:760: DataConversionWarning: A column-vector y was passed when a 1d array was expected. Please change the shape of y to (n_samples, ), for example using ravel().\n",
            "  y = column_or_1d(y, warn=True)\n"
          ],
          "name": "stderr"
        }
      ]
    },
    {
      "cell_type": "code",
      "metadata": {
        "id": "-V_-gj3UmFxq"
      },
      "source": [
        "#print our price predictions on our test data\n",
        "y_pred = reg.predict(x_test)"
      ],
      "execution_count": null,
      "outputs": []
    },
    {
      "cell_type": "code",
      "metadata": {
        "id": "qHf63HnPndsR"
      },
      "source": [
        "#print our price predictions on our test data\n",
        "y1_pred = reg.predict(df1_x)"
      ],
      "execution_count": null,
      "outputs": []
    },
    {
      "cell_type": "code",
      "metadata": {
        "colab": {
          "base_uri": "https://localhost:8080/"
        },
        "id": "upzHWu_ctpn9",
        "outputId": "3f0dd1d9-7425-4a86-c4e3-036f4e9df0b2"
      },
      "source": [
        "y1_pred"
      ],
      "execution_count": null,
      "outputs": [
        {
          "output_type": "execute_result",
          "data": {
            "text/plain": [
              "array([0, 0, 0, 0, 0, 1, 0, 0, 0, 0, 0, 0, 0, 0, 1, 0, 0, 0, 0, 1, 0, 0,\n",
              "       0, 1, 0, 0, 0, 0, 0, 0, 0, 0, 0, 0, 1, 0, 0, 0, 0, 0, 0, 0, 0, 0,\n",
              "       1, 0, 0, 0, 0, 0, 0, 0, 0, 0, 1, 0, 0, 0, 0, 0, 0, 0, 0, 0, 0, 0,\n",
              "       0, 0, 0, 0, 0, 0, 0, 0, 0, 0, 0, 0, 0, 0, 0, 0, 0, 0, 0, 0, 0, 0,\n",
              "       0, 0, 0, 0, 0, 0, 0, 0, 0, 0, 0, 0, 0, 0, 0, 0, 0, 0, 0, 0, 0, 0,\n",
              "       0, 0, 0, 0, 0, 0, 0, 0, 1, 0, 0, 0, 0, 0, 0, 0, 1, 0, 0, 0, 0, 0,\n",
              "       0, 0, 0, 0, 0, 0, 0, 0, 0, 0, 0, 0, 0, 1, 0, 0, 1, 0, 0, 1, 0, 0,\n",
              "       0, 0, 0, 1, 0, 0, 0, 0, 0, 0, 0, 0, 0, 0, 0, 0, 0, 0, 0, 0, 0, 0,\n",
              "       0, 0, 0, 0, 0, 1, 0, 1, 0, 0, 0, 0, 0, 0, 0, 0, 0, 0, 0, 0, 0, 0,\n",
              "       0, 0, 0, 0, 0, 0, 0, 0, 0, 0, 0, 0, 0, 0, 0, 0, 0, 0, 0, 0, 0, 0,\n",
              "       0, 0, 0, 0, 0, 0, 0, 0, 0, 1, 0, 0, 1, 0, 0, 0, 0, 0, 0, 0, 0, 0,\n",
              "       0, 0, 1, 0, 0, 0, 0, 0, 0, 0, 1, 0, 1, 0, 0, 0, 0, 0, 0, 0, 0, 0,\n",
              "       0, 0, 0, 0, 0, 0, 0, 0, 0, 1, 0, 0, 0, 0, 0, 0, 0, 0, 1, 0, 0, 0,\n",
              "       0, 0, 0, 0, 1, 0, 0, 0, 0, 0, 1, 0, 0, 0, 0, 0, 0, 0, 0, 0, 0, 0,\n",
              "       0, 0, 0, 0, 0, 0, 0, 0, 0, 0, 0, 0, 0, 0, 0, 0, 0, 0, 0, 0, 0, 0,\n",
              "       0, 0, 0, 0, 0, 0, 0, 0, 0, 0, 0, 0, 0, 0, 0, 0, 0, 0, 0, 0, 0, 0,\n",
              "       0, 0, 0, 1, 0, 0, 0, 0, 0, 0, 0, 1, 0, 0, 0, 0, 0, 0, 0, 0, 1, 0,\n",
              "       0, 0, 0, 0, 0, 0, 0, 0, 0, 0, 0, 0, 0, 0, 0, 0, 1, 0, 0, 0, 0, 0,\n",
              "       0, 0, 0, 0, 0, 0, 0, 0, 0, 0, 0, 0, 0, 0, 0, 1, 0, 1, 0, 0, 0, 0,\n",
              "       0, 0, 0, 0, 0, 0, 0, 1, 0, 0, 0, 0, 0, 0, 0, 0, 0, 0, 1, 1, 0, 0,\n",
              "       1, 0, 0, 0, 0, 0, 0, 1, 0, 0, 0, 0, 0, 0, 0, 0, 0, 0, 0, 0, 0, 0,\n",
              "       0, 0, 0, 0, 0, 0, 0, 0, 1, 0, 0, 1, 0, 0, 1, 0, 1, 0, 0, 0, 0, 0,\n",
              "       0, 0, 0, 0, 0, 0, 0, 0, 0, 0, 0, 1, 0, 0, 0, 0, 0, 0, 0, 0, 0, 0,\n",
              "       1, 0, 0, 0, 0, 0, 0, 0, 0, 0, 0, 1, 0, 1, 0, 0, 0, 0, 0, 0, 1, 1,\n",
              "       0, 0, 0, 0, 0, 1, 0, 0, 0, 0, 0, 0, 0, 0, 0, 1, 0, 0, 1, 0, 0, 0,\n",
              "       0, 0, 0, 0, 0, 0, 0, 0, 0, 0, 0, 0, 0, 0, 0, 0, 0, 0, 0, 0, 0, 1,\n",
              "       0, 0, 0, 0, 0, 0, 0, 1, 0, 0, 0, 0, 0, 0, 0, 0, 0, 0, 0, 0, 0, 0,\n",
              "       0, 1, 0, 0, 0, 0, 0, 0, 0, 0, 0, 0, 0, 0, 0, 1, 1, 0, 0, 0, 0, 0,\n",
              "       0, 0, 0, 0, 0, 0, 0, 0, 1, 0, 0, 1, 0, 0, 1, 0, 0, 0, 0, 0, 0, 1,\n",
              "       1, 1, 0, 0, 0, 0, 0, 0, 1, 0, 0, 0, 0, 0, 0, 0, 1, 0, 0, 1, 0, 0,\n",
              "       0, 0, 0, 0, 0, 0, 1, 0, 0, 0, 0, 0, 0, 1, 0, 0, 0, 0, 0, 0, 0, 0,\n",
              "       0, 0, 0, 0, 1, 0, 0, 0, 0, 0, 1, 0, 0, 0, 0, 0, 1, 0, 0, 0, 0, 0,\n",
              "       0, 1, 0, 0, 0, 0, 0, 0, 0, 1, 0, 0, 1, 1, 0, 0, 0, 0, 0, 0, 0, 0,\n",
              "       0, 1, 0, 0, 0, 0, 0, 0, 0, 0, 0, 0, 0, 0, 0, 0, 0, 0, 1, 0, 0, 1,\n",
              "       0, 1, 0, 0, 1, 0, 0, 0, 0, 0, 1, 0, 1, 0, 0, 0, 0, 1, 0, 0, 0, 0,\n",
              "       0, 0, 0, 0, 0, 0, 0, 0, 0, 0, 0, 0, 0, 0, 0, 0, 0, 0, 0, 0, 0, 0,\n",
              "       0, 0, 0, 0, 0, 0, 0, 0, 0, 1, 1, 0, 0, 0, 0, 0, 0, 0, 0, 0, 0, 0,\n",
              "       0, 0, 0, 0, 1, 0, 0, 1, 1, 0, 0, 1, 0, 1, 0, 0, 0, 0, 0, 0, 0, 0,\n",
              "       0, 0, 0, 0, 0, 0, 1, 0, 0, 0, 0, 0, 0, 0, 0, 0, 0, 0, 1, 0, 0, 0,\n",
              "       1, 0, 1, 0, 0, 0, 0, 0, 0, 0, 0, 0, 0, 1, 0, 0, 0, 0, 0, 0, 0, 0,\n",
              "       0, 0, 0, 0, 0, 0, 0, 0, 0, 0, 0, 0, 1, 0, 0, 0, 0, 0, 0])"
            ]
          },
          "metadata": {},
          "execution_count": 78
        }
      ]
    },
    {
      "cell_type": "code",
      "metadata": {
        "id": "O2J-w74JmFxq"
      },
      "source": [
        "# Store dataframe values into a numpy array\n",
        "array = df.values\n",
        "\n",
        "# Separate array into input and output components by slicing\n",
        "# For X (input) [:, 0:0] = all the rows, columns from 0 - 13\n",
        "# Independent variables - input\n",
        "X = array[:, 0:6]\n",
        "\n",
        "# For Y (output) [:, 7] = all the rows, columns index 7 (last column)\n",
        "# Dependent variable = output\n",
        "Y = array[:,7]"
      ],
      "execution_count": null,
      "outputs": []
    },
    {
      "cell_type": "code",
      "metadata": {
        "id": "l804IxmYmFxr",
        "outputId": "a46e0071-2190-4539-9f22-d74e0df79989"
      },
      "source": [
        "#df['relationship'], df['education'], df['race'],df['occupation'],df['gender'],df['marital'],df['workclass']\n",
        "reg.predict([[5,11,0,6,0,5,5]])"
      ],
      "execution_count": null,
      "outputs": [
        {
          "data": {
            "text/plain": [
              "array([0])"
            ]
          },
          "execution_count": 50,
          "metadata": {},
          "output_type": "execute_result"
        }
      ]
    },
    {
      "cell_type": "code",
      "metadata": {
        "id": "CSPk_nQbmFxr",
        "outputId": "a6482a23-54a3-4e8f-ba3d-6f3c260b3b31"
      },
      "source": [
        "#Predicting the target value that is if income is <=50K then 0 if not 1 with x-axis columns as given below\n",
        "reg.predict([[1,7,3,7,0,2,0]])"
      ],
      "execution_count": null,
      "outputs": [
        {
          "data": {
            "text/plain": [
              "array([1])"
            ]
          },
          "execution_count": 51,
          "metadata": {},
          "output_type": "execute_result"
        }
      ]
    },
    {
      "cell_type": "code",
      "metadata": {
        "id": "4p1hPFwvmFxr",
        "outputId": "14600925-c89e-4f79-b920-8910d1f67216"
      },
      "source": [
        "#Predicting the target value that is if income is <=50K then 0 if not 1 with x-axis columns as given below\n",
        "reg.predict([[4,12,3,7,0,0,0]])"
      ],
      "execution_count": null,
      "outputs": [
        {
          "data": {
            "text/plain": [
              "array([1])"
            ]
          },
          "execution_count": 52,
          "metadata": {},
          "output_type": "execute_result"
        }
      ]
    },
    {
      "cell_type": "code",
      "metadata": {
        "id": "s1qcutrDmFxs",
        "outputId": "69ab2ee8-6516-4732-df26-51e333a0875a"
      },
      "source": [
        "#confusion matrix \n",
        "cnf_matrix = metrics.confusion_matrix(y_test, y_pred)\n",
        "cnf_matrix"
      ],
      "execution_count": null,
      "outputs": [
        {
          "data": {
            "text/plain": [
              "array([[10529,   703],\n",
              "       [ 2874,   818]])"
            ]
          },
          "execution_count": 53,
          "metadata": {},
          "output_type": "execute_result"
        }
      ]
    },
    {
      "cell_type": "code",
      "metadata": {
        "id": "9RuUwuZymFxs",
        "outputId": "4cf61202-669e-4aac-a7aa-376a9154d251"
      },
      "source": [
        "print(\"Accuracy:\",metrics.accuracy_score(y_test, y_pred))"
      ],
      "execution_count": null,
      "outputs": [
        {
          "name": "stdout",
          "output_type": "stream",
          "text": [
            "Accuracy: 0.7603189493433395\n"
          ]
        }
      ]
    },
    {
      "cell_type": "code",
      "metadata": {
        "id": "-3_YAYB6mFxs",
        "outputId": "e5394e22-2d7c-4452-e502-edabf0ed5a42"
      },
      "source": [
        "# evaluate the algorithm\n",
        "# specify the number of time of repeated splitting, in this case 10 folds\n",
        "n_splits = 10\n",
        "\n",
        "# fix the random seed\n",
        "# must use the same seed value so that the same subsets can be obtained\n",
        "# for each time the process is repeated\n",
        "seed = 7\n",
        "\n",
        "# split the whole dataset into folds\n",
        "kfold = KFold(n_splits, random_state=seed)\n",
        "\n",
        "# for logistic regression, we can use the accuracy level to evaluate the model / algorithm\n",
        "scoring = 'accuracy'\n",
        "# train the model and run K-fold cross validation to validate / evaluate the model\n",
        "results = cross_val_score(reg,df_x,df_y, cv=kfold, scoring=scoring)\n",
        "# print the evaluationm results\n",
        "# result: the average of all the results obtained from the K-fold cross validation\n",
        "\n",
        "print(\"Accuracy: %.3f (%.3f)\" % (results.mean(), results.std()))     # Mean and Std of results"
      ],
      "execution_count": null,
      "outputs": [
        {
          "name": "stdout",
          "output_type": "stream",
          "text": [
            "Accuracy: 0.755 (0.005)\n"
          ]
        }
      ]
    },
    {
      "cell_type": "code",
      "metadata": {
        "id": "I_aAXlbtmFxs",
        "outputId": "7c856da0-b1a0-4e7e-dbe2-f7e0b9f8a3d6"
      },
      "source": [
        "logit_model=sm.Logit(Y,df_x)\n",
        "result=logit_model.fit()\n",
        "print(result.summary2())"
      ],
      "execution_count": null,
      "outputs": [
        {
          "name": "stdout",
          "output_type": "stream",
          "text": [
            "Optimization terminated successfully.\n",
            "         Current function value: 0.464480\n",
            "         Iterations 7\n",
            "                         Results: Logit\n",
            "=================================================================\n",
            "Model:              Logit            Pseudo R-squared: 0.171     \n",
            "Dependent Variable: y                AIC:              42023.4506\n",
            "Date:               2020-05-14 21:02 BIC:              42084.4860\n",
            "No. Observations:   45222            Log-Likelihood:   -21005.   \n",
            "Df Model:           6                LL-Null:          -25322.   \n",
            "Df Residuals:       45215            LLR p-value:      0.0000    \n",
            "Converged:          1.0000           Scale:            1.0000    \n",
            "No. Iterations:     7.0000                                       \n",
            "-----------------------------------------------------------------\n",
            "                  Coef.  Std.Err.    z     P>|z|   [0.025  0.975]\n",
            "-----------------------------------------------------------------\n",
            "relationship      0.0495   0.0078   6.3760 0.0000  0.0343  0.0647\n",
            "education         0.0619   0.0024  25.7859 0.0000  0.0572  0.0666\n",
            "race              0.3286   0.0138  23.7577 0.0000  0.3015  0.3557\n",
            "occupation       -0.0235   0.0034  -6.8651 0.0000 -0.0302 -0.0168\n",
            "gender           -0.7398   0.0330 -22.3958 0.0000 -0.8045 -0.6750\n",
            "marital          -0.5911   0.0096 -61.6701 0.0000 -0.6099 -0.5723\n",
            "workclass        -0.1115   0.0073 -15.2406 0.0000 -0.1258 -0.0972\n",
            "=================================================================\n",
            "\n"
          ]
        }
      ]
    }
  ]
}